{
 "cells": [
  {
   "cell_type": "markdown",
   "id": "54a61f6d",
   "metadata": {
    "_cell_guid": "b1076dfc-b9ad-4769-8c92-a6c4dae69d19",
    "_uuid": "8f2839f25d086af736a60e9eeb907d3b93b6e0e5",
    "papermill": {
     "duration": 0.016573,
     "end_time": "2024-07-08T12:05:14.230522",
     "exception": false,
     "start_time": "2024-07-08T12:05:14.213949",
     "status": "completed"
    },
    "tags": []
   },
   "source": [
    "---\n",
    "## **TEHREEM ZUABIR**\n",
    "## **BYTEWISE FELLOWSHIP**\n",
    "## **MINI PROJECT - DATA ANALYSIS**\n",
    "---"
   ]
  },
  {
   "cell_type": "markdown",
   "id": "04da3a05",
   "metadata": {
    "papermill": {
     "duration": 0.016372,
     "end_time": "2024-07-08T12:05:14.263420",
     "exception": false,
     "start_time": "2024-07-08T12:05:14.247048",
     "status": "completed"
    },
    "tags": []
   },
   "source": [
    "In this project we will be analyzing the data obtained from a university enrolLment system. \n",
    "The university is offering the courses both online and oncampus. and want us to analyze how these course types affect the enrollment of students. We are also provided with further information like the prescore and post score and departmnet and any kind of pre-requisite required for the course. \n",
    "\n",
    "\n",
    "### **APPROACH:**\n",
    "The approach that we will take us to the reults is :\n",
    "- First we will load the dataframe.\n",
    "- Then we will clean our data and ensure that data is in required foramt.\n",
    "- Thirdly we will visualize our dataframe and gain valuable insight from it to conclude our results.\n",
    "\n",
    "Let's start wth the project!"
   ]
  },
  {
   "cell_type": "markdown",
   "id": "da5eb657",
   "metadata": {
    "papermill": {
     "duration": 0.016754,
     "end_time": "2024-07-08T12:05:14.297601",
     "exception": false,
     "start_time": "2024-07-08T12:05:14.280847",
     "status": "completed"
    },
    "tags": []
   },
   "source": [
    "**First we import the important libraries that we wil need.**"
   ]
  },
  {
   "cell_type": "code",
   "execution_count": 1,
   "id": "d31fd025",
   "metadata": {
    "execution": {
     "iopub.execute_input": "2024-07-08T12:05:14.332738Z",
     "iopub.status.busy": "2024-07-08T12:05:14.332318Z",
     "iopub.status.idle": "2024-07-08T12:05:15.233010Z",
     "shell.execute_reply": "2024-07-08T12:05:15.231858Z"
    },
    "papermill": {
     "duration": 0.92139,
     "end_time": "2024-07-08T12:05:15.235768",
     "exception": false,
     "start_time": "2024-07-08T12:05:14.314378",
     "status": "completed"
    },
    "tags": []
   },
   "outputs": [],
   "source": [
    "import numpy as np\n",
    "import pandas as pd\n",
    "import matplotlib.pyplot as plt"
   ]
  },
  {
   "cell_type": "markdown",
   "id": "06bc8440",
   "metadata": {
    "papermill": {
     "duration": 0.015818,
     "end_time": "2024-07-08T12:05:15.267945",
     "exception": false,
     "start_time": "2024-07-08T12:05:15.252127",
     "status": "completed"
    },
    "tags": []
   },
   "source": [
    "---\n",
    "## **LOAD THE DATAFRAME**"
   ]
  },
  {
   "cell_type": "code",
   "execution_count": 2,
   "id": "080d11c4",
   "metadata": {
    "execution": {
     "iopub.execute_input": "2024-07-08T12:05:15.302894Z",
     "iopub.status.busy": "2024-07-08T12:05:15.302299Z",
     "iopub.status.idle": "2024-07-08T12:05:15.355471Z",
     "shell.execute_reply": "2024-07-08T12:05:15.353885Z"
    },
    "papermill": {
     "duration": 0.07434,
     "end_time": "2024-07-08T12:05:15.358434",
     "exception": false,
     "start_time": "2024-07-08T12:05:15.284094",
     "status": "completed"
    },
    "tags": []
   },
   "outputs": [
    {
     "data": {
      "text/html": [
       "<div>\n",
       "<style scoped>\n",
       "    .dataframe tbody tr th:only-of-type {\n",
       "        vertical-align: middle;\n",
       "    }\n",
       "\n",
       "    .dataframe tbody tr th {\n",
       "        vertical-align: top;\n",
       "    }\n",
       "\n",
       "    .dataframe thead th {\n",
       "        text-align: right;\n",
       "    }\n",
       "</style>\n",
       "<table border=\"1\" class=\"dataframe\">\n",
       "  <thead>\n",
       "    <tr style=\"text-align: right;\">\n",
       "      <th></th>\n",
       "      <th>course_id</th>\n",
       "      <th>course_type</th>\n",
       "      <th>year</th>\n",
       "      <th>enrollment_count</th>\n",
       "      <th>pre_score</th>\n",
       "      <th>post_score</th>\n",
       "      <th>pre_requirement</th>\n",
       "      <th>department</th>\n",
       "    </tr>\n",
       "  </thead>\n",
       "  <tbody>\n",
       "    <tr>\n",
       "      <th>0</th>\n",
       "      <td>1</td>\n",
       "      <td>classroom</td>\n",
       "      <td>2018</td>\n",
       "      <td>165</td>\n",
       "      <td>28.14</td>\n",
       "      <td>73.0</td>\n",
       "      <td>Beginner</td>\n",
       "      <td>Science</td>\n",
       "    </tr>\n",
       "    <tr>\n",
       "      <th>1</th>\n",
       "      <td>2</td>\n",
       "      <td>classroom</td>\n",
       "      <td>2020</td>\n",
       "      <td>175</td>\n",
       "      <td>79.68</td>\n",
       "      <td>86.0</td>\n",
       "      <td>NaN</td>\n",
       "      <td>Science</td>\n",
       "    </tr>\n",
       "    <tr>\n",
       "      <th>2</th>\n",
       "      <td>3</td>\n",
       "      <td>online</td>\n",
       "      <td>2016</td>\n",
       "      <td>257</td>\n",
       "      <td>57.24</td>\n",
       "      <td>80.0</td>\n",
       "      <td>NaN</td>\n",
       "      <td>Mathematics</td>\n",
       "    </tr>\n",
       "    <tr>\n",
       "      <th>3</th>\n",
       "      <td>4</td>\n",
       "      <td>online</td>\n",
       "      <td>2013</td>\n",
       "      <td>251</td>\n",
       "      <td>97.67</td>\n",
       "      <td>75.0</td>\n",
       "      <td>Beginner</td>\n",
       "      <td>Technology</td>\n",
       "    </tr>\n",
       "    <tr>\n",
       "      <th>4</th>\n",
       "      <td>5</td>\n",
       "      <td>classroom</td>\n",
       "      <td>2019</td>\n",
       "      <td>165</td>\n",
       "      <td>39.75</td>\n",
       "      <td>76.0</td>\n",
       "      <td>Beginner</td>\n",
       "      <td>Science</td>\n",
       "    </tr>\n",
       "  </tbody>\n",
       "</table>\n",
       "</div>"
      ],
      "text/plain": [
       "   course_id course_type  year  enrollment_count pre_score  post_score  \\\n",
       "0          1   classroom  2018               165     28.14        73.0   \n",
       "1          2   classroom  2020               175     79.68        86.0   \n",
       "2          3      online  2016               257     57.24        80.0   \n",
       "3          4      online  2013               251     97.67        75.0   \n",
       "4          5   classroom  2019               165     39.75        76.0   \n",
       "\n",
       "  pre_requirement   department  \n",
       "0        Beginner      Science  \n",
       "1             NaN      Science  \n",
       "2             NaN  Mathematics  \n",
       "3        Beginner   Technology  \n",
       "4        Beginner      Science  "
      ]
     },
     "execution_count": 2,
     "metadata": {},
     "output_type": "execute_result"
    }
   ],
   "source": [
    "df = pd.read_csv('/kaggle/input/courses/university_enrollment_(Mini-project-01).csv')\n",
    "df.head()"
   ]
  },
  {
   "cell_type": "markdown",
   "id": "d324fd49",
   "metadata": {
    "papermill": {
     "duration": 0.017499,
     "end_time": "2024-07-08T12:05:15.393372",
     "exception": false,
     "start_time": "2024-07-08T12:05:15.375873",
     "status": "completed"
    },
    "tags": []
   },
   "source": [
    "### **Setting the index column**\n",
    "As the course_id column is the column that uniquely identifies each row in the dataframe, so let's set it as the index column."
   ]
  },
  {
   "cell_type": "code",
   "execution_count": 3,
   "id": "a354da98",
   "metadata": {
    "execution": {
     "iopub.execute_input": "2024-07-08T12:05:15.433041Z",
     "iopub.status.busy": "2024-07-08T12:05:15.431979Z",
     "iopub.status.idle": "2024-07-08T12:05:15.449864Z",
     "shell.execute_reply": "2024-07-08T12:05:15.448822Z"
    },
    "papermill": {
     "duration": 0.03803,
     "end_time": "2024-07-08T12:05:15.452160",
     "exception": false,
     "start_time": "2024-07-08T12:05:15.414130",
     "status": "completed"
    },
    "tags": []
   },
   "outputs": [
    {
     "data": {
      "text/html": [
       "<div>\n",
       "<style scoped>\n",
       "    .dataframe tbody tr th:only-of-type {\n",
       "        vertical-align: middle;\n",
       "    }\n",
       "\n",
       "    .dataframe tbody tr th {\n",
       "        vertical-align: top;\n",
       "    }\n",
       "\n",
       "    .dataframe thead th {\n",
       "        text-align: right;\n",
       "    }\n",
       "</style>\n",
       "<table border=\"1\" class=\"dataframe\">\n",
       "  <thead>\n",
       "    <tr style=\"text-align: right;\">\n",
       "      <th></th>\n",
       "      <th>course_type</th>\n",
       "      <th>year</th>\n",
       "      <th>enrollment_count</th>\n",
       "      <th>pre_score</th>\n",
       "      <th>post_score</th>\n",
       "      <th>pre_requirement</th>\n",
       "      <th>department</th>\n",
       "    </tr>\n",
       "    <tr>\n",
       "      <th>course_id</th>\n",
       "      <th></th>\n",
       "      <th></th>\n",
       "      <th></th>\n",
       "      <th></th>\n",
       "      <th></th>\n",
       "      <th></th>\n",
       "      <th></th>\n",
       "    </tr>\n",
       "  </thead>\n",
       "  <tbody>\n",
       "    <tr>\n",
       "      <th>1</th>\n",
       "      <td>classroom</td>\n",
       "      <td>2018</td>\n",
       "      <td>165</td>\n",
       "      <td>28.14</td>\n",
       "      <td>73.0</td>\n",
       "      <td>Beginner</td>\n",
       "      <td>Science</td>\n",
       "    </tr>\n",
       "    <tr>\n",
       "      <th>2</th>\n",
       "      <td>classroom</td>\n",
       "      <td>2020</td>\n",
       "      <td>175</td>\n",
       "      <td>79.68</td>\n",
       "      <td>86.0</td>\n",
       "      <td>NaN</td>\n",
       "      <td>Science</td>\n",
       "    </tr>\n",
       "    <tr>\n",
       "      <th>3</th>\n",
       "      <td>online</td>\n",
       "      <td>2016</td>\n",
       "      <td>257</td>\n",
       "      <td>57.24</td>\n",
       "      <td>80.0</td>\n",
       "      <td>NaN</td>\n",
       "      <td>Mathematics</td>\n",
       "    </tr>\n",
       "    <tr>\n",
       "      <th>4</th>\n",
       "      <td>online</td>\n",
       "      <td>2013</td>\n",
       "      <td>251</td>\n",
       "      <td>97.67</td>\n",
       "      <td>75.0</td>\n",
       "      <td>Beginner</td>\n",
       "      <td>Technology</td>\n",
       "    </tr>\n",
       "    <tr>\n",
       "      <th>5</th>\n",
       "      <td>classroom</td>\n",
       "      <td>2019</td>\n",
       "      <td>165</td>\n",
       "      <td>39.75</td>\n",
       "      <td>76.0</td>\n",
       "      <td>Beginner</td>\n",
       "      <td>Science</td>\n",
       "    </tr>\n",
       "  </tbody>\n",
       "</table>\n",
       "</div>"
      ],
      "text/plain": [
       "          course_type  year  enrollment_count pre_score  post_score  \\\n",
       "course_id                                                             \n",
       "1           classroom  2018               165     28.14        73.0   \n",
       "2           classroom  2020               175     79.68        86.0   \n",
       "3              online  2016               257     57.24        80.0   \n",
       "4              online  2013               251     97.67        75.0   \n",
       "5           classroom  2019               165     39.75        76.0   \n",
       "\n",
       "          pre_requirement   department  \n",
       "course_id                               \n",
       "1                Beginner      Science  \n",
       "2                     NaN      Science  \n",
       "3                     NaN  Mathematics  \n",
       "4                Beginner   Technology  \n",
       "5                Beginner      Science  "
      ]
     },
     "execution_count": 3,
     "metadata": {},
     "output_type": "execute_result"
    }
   ],
   "source": [
    "df.set_index('course_id', inplace = True)\n",
    "df.head()"
   ]
  },
  {
   "cell_type": "code",
   "execution_count": 4,
   "id": "6585297f",
   "metadata": {
    "execution": {
     "iopub.execute_input": "2024-07-08T12:05:15.487492Z",
     "iopub.status.busy": "2024-07-08T12:05:15.486758Z",
     "iopub.status.idle": "2024-07-08T12:05:15.493486Z",
     "shell.execute_reply": "2024-07-08T12:05:15.492424Z"
    },
    "papermill": {
     "duration": 0.026922,
     "end_time": "2024-07-08T12:05:15.495775",
     "exception": false,
     "start_time": "2024-07-08T12:05:15.468853",
     "status": "completed"
    },
    "tags": []
   },
   "outputs": [
    {
     "data": {
      "text/plain": [
       "(1850, 7)"
      ]
     },
     "execution_count": 4,
     "metadata": {},
     "output_type": "execute_result"
    }
   ],
   "source": [
    "# Now let's check the shape of our dataframes\n",
    "df.shape"
   ]
  },
  {
   "cell_type": "markdown",
   "id": "a4b9a46c",
   "metadata": {
    "papermill": {
     "duration": 0.016461,
     "end_time": "2024-07-08T12:05:15.528980",
     "exception": false,
     "start_time": "2024-07-08T12:05:15.512519",
     "status": "completed"
    },
    "tags": []
   },
   "source": [
    "---\n",
    "## **CORRECTING DATATYPES**"
   ]
  },
  {
   "cell_type": "code",
   "execution_count": 5,
   "id": "a0714605",
   "metadata": {
    "execution": {
     "iopub.execute_input": "2024-07-08T12:05:15.566254Z",
     "iopub.status.busy": "2024-07-08T12:05:15.565374Z",
     "iopub.status.idle": "2024-07-08T12:05:15.573742Z",
     "shell.execute_reply": "2024-07-08T12:05:15.572584Z"
    },
    "papermill": {
     "duration": 0.02982,
     "end_time": "2024-07-08T12:05:15.576239",
     "exception": false,
     "start_time": "2024-07-08T12:05:15.546419",
     "status": "completed"
    },
    "tags": []
   },
   "outputs": [
    {
     "data": {
      "text/plain": [
       "course_type          object\n",
       "year                  int64\n",
       "enrollment_count      int64\n",
       "pre_score            object\n",
       "post_score          float64\n",
       "pre_requirement      object\n",
       "department           object\n",
       "dtype: object"
      ]
     },
     "execution_count": 5,
     "metadata": {},
     "output_type": "execute_result"
    }
   ],
   "source": [
    "df.dtypes"
   ]
  },
  {
   "cell_type": "markdown",
   "id": "6112897d",
   "metadata": {
    "papermill": {
     "duration": 0.016864,
     "end_time": "2024-07-08T12:05:15.610428",
     "exception": false,
     "start_time": "2024-07-08T12:05:15.593564",
     "status": "completed"
    },
    "tags": []
   },
   "source": [
    "So the above output shows that the columns **course_type, enrollment_count, post_score, pre_requirement, department** has correct datatypes.\n",
    "\n",
    "But the datatype of year, pre_score should be corrected.\n",
    "1. The **year** column should be converted to datetime format. It would be helpful if the column is in datetime format asit will be easire to see the trends over tim.\n",
    "2. **pre_score** should bein float datatype because it is a numerical column."
   ]
  },
  {
   "cell_type": "code",
   "execution_count": 6,
   "id": "3d4173e2",
   "metadata": {
    "execution": {
     "iopub.execute_input": "2024-07-08T12:05:15.646644Z",
     "iopub.status.busy": "2024-07-08T12:05:15.646258Z",
     "iopub.status.idle": "2024-07-08T12:05:15.663560Z",
     "shell.execute_reply": "2024-07-08T12:05:15.662324Z"
    },
    "papermill": {
     "duration": 0.038349,
     "end_time": "2024-07-08T12:05:15.666194",
     "exception": false,
     "start_time": "2024-07-08T12:05:15.627845",
     "status": "completed"
    },
    "tags": []
   },
   "outputs": [
    {
     "data": {
      "text/plain": [
       "course_type                 object\n",
       "year                datetime64[ns]\n",
       "enrollment_count             int64\n",
       "pre_score                   object\n",
       "post_score                 float64\n",
       "pre_requirement             object\n",
       "department                  object\n",
       "dtype: object"
      ]
     },
     "execution_count": 6,
     "metadata": {},
     "output_type": "execute_result"
    }
   ],
   "source": [
    "# converting year column to datetime format\n",
    "df['year'] = pd.to_datetime(df['year'], format = '%Y')\n",
    "df.dtypes"
   ]
  },
  {
   "cell_type": "code",
   "execution_count": 7,
   "id": "4164b165",
   "metadata": {
    "execution": {
     "iopub.execute_input": "2024-07-08T12:05:15.702733Z",
     "iopub.status.busy": "2024-07-08T12:05:15.702341Z",
     "iopub.status.idle": "2024-07-08T12:05:15.707845Z",
     "shell.execute_reply": "2024-07-08T12:05:15.706614Z"
    },
    "papermill": {
     "duration": 0.027094,
     "end_time": "2024-07-08T12:05:15.710663",
     "exception": false,
     "start_time": "2024-07-08T12:05:15.683569",
     "status": "completed"
    },
    "tags": []
   },
   "outputs": [],
   "source": [
    "# converting pre_score column datatype to float\n",
    "#df['pre_score'] = df['pre_score'].astype(float)"
   ]
  },
  {
   "cell_type": "markdown",
   "id": "1158912f",
   "metadata": {
    "papermill": {
     "duration": 0.017239,
     "end_time": "2024-07-08T12:05:15.745631",
     "exception": false,
     "start_time": "2024-07-08T12:05:15.728392",
     "status": "completed"
    },
    "tags": []
   },
   "source": [
    "### **Eliminating '-' character from pre_score Column**\n",
    "- When converting the datatype of pre_score column I have countered another problem that is the pre_score column contains '-' string at some rows so we'll have to cater that also.\n",
    "\n",
    "- First let's check where '-' is present in the dataframe."
   ]
  },
  {
   "cell_type": "code",
   "execution_count": 8,
   "id": "2e2a83c3",
   "metadata": {
    "execution": {
     "iopub.execute_input": "2024-07-08T12:05:15.781851Z",
     "iopub.status.busy": "2024-07-08T12:05:15.781490Z",
     "iopub.status.idle": "2024-07-08T12:05:15.802127Z",
     "shell.execute_reply": "2024-07-08T12:05:15.801091Z"
    },
    "papermill": {
     "duration": 0.04144,
     "end_time": "2024-07-08T12:05:15.804313",
     "exception": false,
     "start_time": "2024-07-08T12:05:15.762873",
     "status": "completed"
    },
    "tags": []
   },
   "outputs": [
    {
     "data": {
      "text/html": [
       "<div>\n",
       "<style scoped>\n",
       "    .dataframe tbody tr th:only-of-type {\n",
       "        vertical-align: middle;\n",
       "    }\n",
       "\n",
       "    .dataframe tbody tr th {\n",
       "        vertical-align: top;\n",
       "    }\n",
       "\n",
       "    .dataframe thead th {\n",
       "        text-align: right;\n",
       "    }\n",
       "</style>\n",
       "<table border=\"1\" class=\"dataframe\">\n",
       "  <thead>\n",
       "    <tr style=\"text-align: right;\">\n",
       "      <th></th>\n",
       "      <th>course_type</th>\n",
       "      <th>year</th>\n",
       "      <th>enrollment_count</th>\n",
       "      <th>pre_score</th>\n",
       "      <th>post_score</th>\n",
       "      <th>pre_requirement</th>\n",
       "      <th>department</th>\n",
       "    </tr>\n",
       "    <tr>\n",
       "      <th>course_id</th>\n",
       "      <th></th>\n",
       "      <th></th>\n",
       "      <th></th>\n",
       "      <th></th>\n",
       "      <th></th>\n",
       "      <th></th>\n",
       "      <th></th>\n",
       "    </tr>\n",
       "  </thead>\n",
       "  <tbody>\n",
       "    <tr>\n",
       "      <th>16</th>\n",
       "      <td>online</td>\n",
       "      <td>2013-01-01</td>\n",
       "      <td>256</td>\n",
       "      <td>-</td>\n",
       "      <td>86.0</td>\n",
       "      <td>NaN</td>\n",
       "      <td>Mathematics</td>\n",
       "    </tr>\n",
       "    <tr>\n",
       "      <th>23</th>\n",
       "      <td>online</td>\n",
       "      <td>2015-01-01</td>\n",
       "      <td>236</td>\n",
       "      <td>-</td>\n",
       "      <td>72.0</td>\n",
       "      <td>Intermediate</td>\n",
       "      <td>Mathematics</td>\n",
       "    </tr>\n",
       "    <tr>\n",
       "      <th>27</th>\n",
       "      <td>online</td>\n",
       "      <td>2014-01-01</td>\n",
       "      <td>251</td>\n",
       "      <td>-</td>\n",
       "      <td>80.0</td>\n",
       "      <td>NaN</td>\n",
       "      <td>Science</td>\n",
       "    </tr>\n",
       "    <tr>\n",
       "      <th>28</th>\n",
       "      <td>online</td>\n",
       "      <td>2016-01-01</td>\n",
       "      <td>251</td>\n",
       "      <td>-</td>\n",
       "      <td>83.0</td>\n",
       "      <td>NaN</td>\n",
       "      <td>Science</td>\n",
       "    </tr>\n",
       "    <tr>\n",
       "      <th>32</th>\n",
       "      <td>online</td>\n",
       "      <td>2013-01-01</td>\n",
       "      <td>261</td>\n",
       "      <td>-</td>\n",
       "      <td>96.0</td>\n",
       "      <td>NaN</td>\n",
       "      <td>Technology</td>\n",
       "    </tr>\n",
       "  </tbody>\n",
       "</table>\n",
       "</div>"
      ],
      "text/plain": [
       "          course_type       year  enrollment_count pre_score  post_score  \\\n",
       "course_id                                                                  \n",
       "16             online 2013-01-01               256         -        86.0   \n",
       "23             online 2015-01-01               236         -        72.0   \n",
       "27             online 2014-01-01               251         -        80.0   \n",
       "28             online 2016-01-01               251         -        83.0   \n",
       "32             online 2013-01-01               261         -        96.0   \n",
       "\n",
       "          pre_requirement   department  \n",
       "course_id                               \n",
       "16                    NaN  Mathematics  \n",
       "23           Intermediate  Mathematics  \n",
       "27                    NaN      Science  \n",
       "28                    NaN      Science  \n",
       "32                    NaN   Technology  "
      ]
     },
     "execution_count": 8,
     "metadata": {},
     "output_type": "execute_result"
    }
   ],
   "source": [
    "df[df['pre_score'] == '-'].head()"
   ]
  },
  {
   "cell_type": "markdown",
   "id": "570a9d95",
   "metadata": {
    "papermill": {
     "duration": 0.016957,
     "end_time": "2024-07-08T12:05:15.838501",
     "exception": false,
     "start_time": "2024-07-08T12:05:15.821544",
     "status": "completed"
    },
    "tags": []
   },
   "source": [
    "Now to cater with this issue what we can do is that:\n",
    "\n",
    "1. First convert the column to numerical form using pd.to_numeric method and coerce the errors that will raise bacause of the presence of '-' string. After converting to numerical form the rows with '-' character will be replaceb by missing value.\n",
    "2. After that I will group the dataframe by category and calcualte the mean pre_score of each category.\n",
    "3. Then I will replace the missing values with the corresponding mean value.\n",
    "\n",
    "**A second approach can be to drop all the rows with '-' string. But that will result in the loss of the data that can affect our results.**\n"
   ]
  },
  {
   "cell_type": "code",
   "execution_count": 9,
   "id": "f811ab36",
   "metadata": {
    "execution": {
     "iopub.execute_input": "2024-07-08T12:05:15.875238Z",
     "iopub.status.busy": "2024-07-08T12:05:15.874357Z",
     "iopub.status.idle": "2024-07-08T12:05:15.881248Z",
     "shell.execute_reply": "2024-07-08T12:05:15.879940Z"
    },
    "papermill": {
     "duration": 0.027966,
     "end_time": "2024-07-08T12:05:15.883647",
     "exception": false,
     "start_time": "2024-07-08T12:05:15.855681",
     "status": "completed"
    },
    "tags": []
   },
   "outputs": [],
   "source": [
    "# Step 1\n",
    "df['pre_score'] = pd.to_numeric(df['pre_score'], errors = 'coerce')"
   ]
  },
  {
   "cell_type": "code",
   "execution_count": 10,
   "id": "16f8232a",
   "metadata": {
    "execution": {
     "iopub.execute_input": "2024-07-08T12:05:15.920214Z",
     "iopub.status.busy": "2024-07-08T12:05:15.919782Z",
     "iopub.status.idle": "2024-07-08T12:05:15.929726Z",
     "shell.execute_reply": "2024-07-08T12:05:15.928628Z"
    },
    "papermill": {
     "duration": 0.031093,
     "end_time": "2024-07-08T12:05:15.932281",
     "exception": false,
     "start_time": "2024-07-08T12:05:15.901188",
     "status": "completed"
    },
    "tags": []
   },
   "outputs": [],
   "source": [
    "# Step 2\n",
    "mean_pre_score = df.groupby('course_type')['pre_score'].transform('mean')"
   ]
  },
  {
   "cell_type": "code",
   "execution_count": 11,
   "id": "a1836d66",
   "metadata": {
    "execution": {
     "iopub.execute_input": "2024-07-08T12:05:16.031697Z",
     "iopub.status.busy": "2024-07-08T12:05:16.030772Z",
     "iopub.status.idle": "2024-07-08T12:05:16.039798Z",
     "shell.execute_reply": "2024-07-08T12:05:16.038671Z"
    },
    "papermill": {
     "duration": 0.092713,
     "end_time": "2024-07-08T12:05:16.042297",
     "exception": false,
     "start_time": "2024-07-08T12:05:15.949584",
     "status": "completed"
    },
    "tags": []
   },
   "outputs": [
    {
     "data": {
      "text/plain": [
       "course_id\n",
       "1       50.403529\n",
       "2       50.403529\n",
       "3       49.224280\n",
       "4       49.224280\n",
       "5       50.403529\n",
       "          ...    \n",
       "1846    50.403529\n",
       "1847    49.224280\n",
       "1848    49.224280\n",
       "1849    49.224280\n",
       "1850    49.224280\n",
       "Name: pre_score, Length: 1850, dtype: float64"
      ]
     },
     "execution_count": 11,
     "metadata": {},
     "output_type": "execute_result"
    }
   ],
   "source": [
    "mean_pre_score"
   ]
  },
  {
   "cell_type": "code",
   "execution_count": 12,
   "id": "dd5a016b",
   "metadata": {
    "execution": {
     "iopub.execute_input": "2024-07-08T12:05:16.079159Z",
     "iopub.status.busy": "2024-07-08T12:05:16.078736Z",
     "iopub.status.idle": "2024-07-08T12:05:16.084757Z",
     "shell.execute_reply": "2024-07-08T12:05:16.083571Z"
    },
    "papermill": {
     "duration": 0.0274,
     "end_time": "2024-07-08T12:05:16.087177",
     "exception": false,
     "start_time": "2024-07-08T12:05:16.059777",
     "status": "completed"
    },
    "tags": []
   },
   "outputs": [],
   "source": [
    "# Step 3: Fill the missing values in 'pre_score' with the calculated mean\n",
    "df['pre_score'] = df['pre_score'].fillna(mean_pre_score)"
   ]
  },
  {
   "cell_type": "code",
   "execution_count": 13,
   "id": "2762164c",
   "metadata": {
    "execution": {
     "iopub.execute_input": "2024-07-08T12:05:16.124798Z",
     "iopub.status.busy": "2024-07-08T12:05:16.123894Z",
     "iopub.status.idle": "2024-07-08T12:05:16.132539Z",
     "shell.execute_reply": "2024-07-08T12:05:16.131434Z"
    },
    "papermill": {
     "duration": 0.030022,
     "end_time": "2024-07-08T12:05:16.134796",
     "exception": false,
     "start_time": "2024-07-08T12:05:16.104774",
     "status": "completed"
    },
    "tags": []
   },
   "outputs": [
    {
     "data": {
      "text/plain": [
       "course_type                 object\n",
       "year                datetime64[ns]\n",
       "enrollment_count             int64\n",
       "pre_score                  float64\n",
       "post_score                 float64\n",
       "pre_requirement             object\n",
       "department                  object\n",
       "dtype: object"
      ]
     },
     "execution_count": 13,
     "metadata": {},
     "output_type": "execute_result"
    }
   ],
   "source": [
    "df.dtypes"
   ]
  },
  {
   "cell_type": "markdown",
   "id": "22fd124c",
   "metadata": {
    "papermill": {
     "duration": 0.017515,
     "end_time": "2024-07-08T12:05:16.170088",
     "exception": false,
     "start_time": "2024-07-08T12:05:16.152573",
     "status": "completed"
    },
    "tags": []
   },
   "source": [
    "The Data types have been corrected. Now let's handle the missing values."
   ]
  },
  {
   "cell_type": "markdown",
   "id": "436703cb",
   "metadata": {
    "papermill": {
     "duration": 0.017428,
     "end_time": "2024-07-08T12:05:16.206198",
     "exception": false,
     "start_time": "2024-07-08T12:05:16.188770",
     "status": "completed"
    },
    "tags": []
   },
   "source": [
    "---\n",
    "## **CHECKING CATEGORICAL COLUMNS**\n",
    "Now let's check the categories present in each categorical column."
   ]
  },
  {
   "cell_type": "code",
   "execution_count": 14,
   "id": "9de0d029",
   "metadata": {
    "execution": {
     "iopub.execute_input": "2024-07-08T12:05:16.243477Z",
     "iopub.status.busy": "2024-07-08T12:05:16.243101Z",
     "iopub.status.idle": "2024-07-08T12:05:16.254403Z",
     "shell.execute_reply": "2024-07-08T12:05:16.253266Z"
    },
    "papermill": {
     "duration": 0.03307,
     "end_time": "2024-07-08T12:05:16.256868",
     "exception": false,
     "start_time": "2024-07-08T12:05:16.223798",
     "status": "completed"
    },
    "tags": []
   },
   "outputs": [
    {
     "data": {
      "text/plain": [
       "department\n",
       "Technology     719\n",
       "Science        472\n",
       "Mathematics    220\n",
       "Math           220\n",
       "Engineering    219\n",
       "Name: count, dtype: int64"
      ]
     },
     "execution_count": 14,
     "metadata": {},
     "output_type": "execute_result"
    }
   ],
   "source": [
    "df['department'].value_counts()"
   ]
  },
  {
   "cell_type": "markdown",
   "id": "6607c0d1",
   "metadata": {
    "papermill": {
     "duration": 0.018376,
     "end_time": "2024-07-08T12:05:16.294264",
     "exception": false,
     "start_time": "2024-07-08T12:05:16.275888",
     "status": "completed"
    },
    "tags": []
   },
   "source": [
    "- In the department column we can clearly see that there is an anomaly. \n",
    "- There are two departments named MAth and Mathematics these two should fall in the same category.\n",
    "- So we replace the rows with Department written as 'Math' with Mathematics."
   ]
  },
  {
   "cell_type": "code",
   "execution_count": 15,
   "id": "7afaef7e",
   "metadata": {
    "execution": {
     "iopub.execute_input": "2024-07-08T12:05:16.333935Z",
     "iopub.status.busy": "2024-07-08T12:05:16.333521Z",
     "iopub.status.idle": "2024-07-08T12:05:16.340056Z",
     "shell.execute_reply": "2024-07-08T12:05:16.338760Z"
    },
    "papermill": {
     "duration": 0.030179,
     "end_time": "2024-07-08T12:05:16.342871",
     "exception": false,
     "start_time": "2024-07-08T12:05:16.312692",
     "status": "completed"
    },
    "tags": []
   },
   "outputs": [],
   "source": [
    "# Replace 'Maths' with 'Mathematics' in the 'department' column\n",
    "df.loc[df['department'] == 'Math', 'department'] = 'Mathematics'"
   ]
  },
  {
   "cell_type": "code",
   "execution_count": 16,
   "id": "73d6a4a2",
   "metadata": {
    "execution": {
     "iopub.execute_input": "2024-07-08T12:05:16.381089Z",
     "iopub.status.busy": "2024-07-08T12:05:16.380661Z",
     "iopub.status.idle": "2024-07-08T12:05:16.390555Z",
     "shell.execute_reply": "2024-07-08T12:05:16.389060Z"
    },
    "papermill": {
     "duration": 0.032331,
     "end_time": "2024-07-08T12:05:16.393259",
     "exception": false,
     "start_time": "2024-07-08T12:05:16.360928",
     "status": "completed"
    },
    "tags": []
   },
   "outputs": [
    {
     "data": {
      "text/plain": [
       "department\n",
       "Technology     719\n",
       "Science        472\n",
       "Mathematics    440\n",
       "Engineering    219\n",
       "Name: count, dtype: int64"
      ]
     },
     "execution_count": 16,
     "metadata": {},
     "output_type": "execute_result"
    }
   ],
   "source": [
    "df['department'].value_counts()"
   ]
  },
  {
   "cell_type": "markdown",
   "id": "45c6f8d8",
   "metadata": {
    "papermill": {
     "duration": 0.018586,
     "end_time": "2024-07-08T12:05:16.433641",
     "exception": false,
     "start_time": "2024-07-08T12:05:16.415055",
     "status": "completed"
    },
    "tags": []
   },
   "source": [
    "The 220 rows of Maths department have been now added to Mathematics department.\n",
    "\n",
    "Now we check the values of course_type and pre_requirement column."
   ]
  },
  {
   "cell_type": "code",
   "execution_count": 17,
   "id": "504f2b24",
   "metadata": {
    "execution": {
     "iopub.execute_input": "2024-07-08T12:05:16.472576Z",
     "iopub.status.busy": "2024-07-08T12:05:16.472207Z",
     "iopub.status.idle": "2024-07-08T12:05:16.480982Z",
     "shell.execute_reply": "2024-07-08T12:05:16.479908Z"
    },
    "papermill": {
     "duration": 0.030789,
     "end_time": "2024-07-08T12:05:16.483300",
     "exception": false,
     "start_time": "2024-07-08T12:05:16.452511",
     "status": "completed"
    },
    "tags": []
   },
   "outputs": [
    {
     "data": {
      "text/plain": [
       "course_type\n",
       "online       1375\n",
       "classroom     475\n",
       "Name: count, dtype: int64"
      ]
     },
     "execution_count": 17,
     "metadata": {},
     "output_type": "execute_result"
    }
   ],
   "source": [
    "df['course_type'].value_counts()"
   ]
  },
  {
   "cell_type": "code",
   "execution_count": 18,
   "id": "279190df",
   "metadata": {
    "execution": {
     "iopub.execute_input": "2024-07-08T12:05:16.521618Z",
     "iopub.status.busy": "2024-07-08T12:05:16.521221Z",
     "iopub.status.idle": "2024-07-08T12:05:16.530479Z",
     "shell.execute_reply": "2024-07-08T12:05:16.529288Z"
    },
    "papermill": {
     "duration": 0.031509,
     "end_time": "2024-07-08T12:05:16.532937",
     "exception": false,
     "start_time": "2024-07-08T12:05:16.501428",
     "status": "completed"
    },
    "tags": []
   },
   "outputs": [
    {
     "data": {
      "text/plain": [
       "pre_requirement\n",
       "Beginner        654\n",
       "Intermediate    305\n",
       "Name: count, dtype: int64"
      ]
     },
     "execution_count": 18,
     "metadata": {},
     "output_type": "execute_result"
    }
   ],
   "source": [
    "df['pre_requirement'].value_counts()\n"
   ]
  },
  {
   "cell_type": "markdown",
   "id": "5e222d1d",
   "metadata": {
    "execution": {
     "iopub.execute_input": "2024-07-07T14:16:10.121632Z",
     "iopub.status.busy": "2024-07-07T14:16:10.121180Z",
     "iopub.status.idle": "2024-07-07T14:16:10.131257Z",
     "shell.execute_reply": "2024-07-07T14:16:10.130176Z",
     "shell.execute_reply.started": "2024-07-07T14:16:10.121577Z"
    },
    "papermill": {
     "duration": 0.018001,
     "end_time": "2024-07-08T12:05:16.569165",
     "exception": false,
     "start_time": "2024-07-08T12:05:16.551164",
     "status": "completed"
    },
    "tags": []
   },
   "source": [
    "The data in pre_requirement and course_type column is fine and doesnot need any modification."
   ]
  },
  {
   "cell_type": "markdown",
   "id": "22df3b09",
   "metadata": {
    "papermill": {
     "duration": 0.018174,
     "end_time": "2024-07-08T12:05:16.606936",
     "exception": false,
     "start_time": "2024-07-08T12:05:16.588762",
     "status": "completed"
    },
    "tags": []
   },
   "source": [
    "---\n",
    "## **HANDLING MISSING VALUES**\n",
    "\n",
    "To handle missing values first we need to check how many missing values are present in each column of dataframe."
   ]
  },
  {
   "cell_type": "code",
   "execution_count": 19,
   "id": "e6aa31ac",
   "metadata": {
    "execution": {
     "iopub.execute_input": "2024-07-08T12:05:16.646423Z",
     "iopub.status.busy": "2024-07-08T12:05:16.645966Z",
     "iopub.status.idle": "2024-07-08T12:05:16.656041Z",
     "shell.execute_reply": "2024-07-08T12:05:16.654884Z"
    },
    "papermill": {
     "duration": 0.033136,
     "end_time": "2024-07-08T12:05:16.658564",
     "exception": false,
     "start_time": "2024-07-08T12:05:16.625428",
     "status": "completed"
    },
    "tags": []
   },
   "outputs": [
    {
     "data": {
      "text/plain": [
       "course_type           0\n",
       "year                  0\n",
       "enrollment_count      0\n",
       "pre_score             0\n",
       "post_score          185\n",
       "pre_requirement     891\n",
       "department            0\n",
       "dtype: int64"
      ]
     },
     "execution_count": 19,
     "metadata": {},
     "output_type": "execute_result"
    }
   ],
   "source": [
    "# First lets check missing values\n",
    "df.isnull().sum()"
   ]
  },
  {
   "cell_type": "markdown",
   "id": "7a842035",
   "metadata": {
    "papermill": {
     "duration": 0.018872,
     "end_time": "2024-07-08T12:05:16.696236",
     "exception": false,
     "start_time": "2024-07-08T12:05:16.677364",
     "status": "completed"
    },
    "tags": []
   },
   "source": [
    "We have some missing values in the **post_score** and **pre_requisite** column. \n",
    "\n",
    "- One approach can be to drop these rows but it will result in the loss of data especially if we delete the rows of the **pre_requisite** column.\n",
    "- So we will follow another approach in which we will replace the missing values with some value that we will infer from our data.\n",
    "\n",
    "\n",
    "### **Handling Missing values of 'Post Score'**\n",
    "First let's handle the **post_score.**\n",
    "\n",
    "For filing the missing values of post_score column I will be using the same apprach as the pre_score column that is:\n",
    "   1. First group the dataframe by course_type and calculate the mean post score.\n",
    "   2. Fill the missing values with the correspondig missing value."
   ]
  },
  {
   "cell_type": "code",
   "execution_count": 20,
   "id": "74e59b4c",
   "metadata": {
    "execution": {
     "iopub.execute_input": "2024-07-08T12:05:16.735957Z",
     "iopub.status.busy": "2024-07-08T12:05:16.735489Z",
     "iopub.status.idle": "2024-07-08T12:05:16.742673Z",
     "shell.execute_reply": "2024-07-08T12:05:16.741502Z"
    },
    "papermill": {
     "duration": 0.029795,
     "end_time": "2024-07-08T12:05:16.745258",
     "exception": false,
     "start_time": "2024-07-08T12:05:16.715463",
     "status": "completed"
    },
    "tags": []
   },
   "outputs": [],
   "source": [
    "# Step 1\n",
    "mean_post_score = df.groupby('course_type')['post_score'].transform('mean')"
   ]
  },
  {
   "cell_type": "code",
   "execution_count": 21,
   "id": "df2c6d95",
   "metadata": {
    "execution": {
     "iopub.execute_input": "2024-07-08T12:05:16.785522Z",
     "iopub.status.busy": "2024-07-08T12:05:16.784250Z",
     "iopub.status.idle": "2024-07-08T12:05:16.791308Z",
     "shell.execute_reply": "2024-07-08T12:05:16.790068Z"
    },
    "papermill": {
     "duration": 0.029982,
     "end_time": "2024-07-08T12:05:16.794052",
     "exception": false,
     "start_time": "2024-07-08T12:05:16.764070",
     "status": "completed"
    },
    "tags": []
   },
   "outputs": [],
   "source": [
    "# Step 2\n",
    "df['post_score'] = df['post_score'].fillna(mean_post_score)"
   ]
  },
  {
   "cell_type": "code",
   "execution_count": 22,
   "id": "41ec677e",
   "metadata": {
    "execution": {
     "iopub.execute_input": "2024-07-08T12:05:16.833748Z",
     "iopub.status.busy": "2024-07-08T12:05:16.832600Z",
     "iopub.status.idle": "2024-07-08T12:05:16.842921Z",
     "shell.execute_reply": "2024-07-08T12:05:16.841796Z"
    },
    "papermill": {
     "duration": 0.03271,
     "end_time": "2024-07-08T12:05:16.845466",
     "exception": false,
     "start_time": "2024-07-08T12:05:16.812756",
     "status": "completed"
    },
    "tags": []
   },
   "outputs": [
    {
     "data": {
      "text/plain": [
       "course_type           0\n",
       "year                  0\n",
       "enrollment_count      0\n",
       "pre_score             0\n",
       "post_score            0\n",
       "pre_requirement     891\n",
       "department            0\n",
       "dtype: int64"
      ]
     },
     "execution_count": 22,
     "metadata": {},
     "output_type": "execute_result"
    }
   ],
   "source": [
    "df.isnull().sum()"
   ]
  },
  {
   "cell_type": "markdown",
   "id": "a965b6d9",
   "metadata": {
    "papermill": {
     "duration": 0.018649,
     "end_time": "2024-07-08T12:05:16.882747",
     "exception": false,
     "start_time": "2024-07-08T12:05:16.864098",
     "status": "completed"
    },
    "tags": []
   },
   "source": [
    "### **Handling Missing values of 'Pre_requirement'**\n",
    "Now to cater the missing values of pre_requirements we need to decide how to replace the missing values. \n",
    "\n",
    "**OPTION 1:**\n",
    "- One approach would be to drop all the missing values. \n",
    "- But there are 891 rows that have missing values while oue total rows are 1850. So we cant just remove them.\n",
    "\n",
    "**OPTION 2:**\n",
    "- Second option can be to replace the missing values with the most occuring value in the column, if the count of 'Beginner' is more than intermediate replace missing values with 'intermediate'. \n",
    "- But in this case our data will become biased to a pre-requirement with which it is being replaced.\n",
    "\n",
    "**OPTION 3:**\n",
    "A third option is a rather a more better way to remove the missing values. The approach is:\n",
    "       \n",
    "   **1. We first group our dataframe with respect to the course_type column and count the values in the pre_requisite column for each course_tye.**\n",
    "   \n",
    "   In this way we will get information about how many intermediate and beginner courses are being offered in classroom and online course type.\n",
    "   \n",
    "   **2. Then we calculate te ratio of Beginner to Intermediate courses and replace missing values according to that ratio.**\n",
    "   \n",
    "   **For example**, If we have 64 Beginner level courses and 32 Intermediate level courses in online course type then the ratio becomes 2:1 so we replace two rows with Beginner and 1 row with intermediate, as it will maintain the original distribution of our data."
   ]
  },
  {
   "cell_type": "code",
   "execution_count": 23,
   "id": "41858958",
   "metadata": {
    "execution": {
     "iopub.execute_input": "2024-07-08T12:05:16.922091Z",
     "iopub.status.busy": "2024-07-08T12:05:16.921241Z",
     "iopub.status.idle": "2024-07-08T12:05:16.941584Z",
     "shell.execute_reply": "2024-07-08T12:05:16.940338Z"
    },
    "papermill": {
     "duration": 0.042866,
     "end_time": "2024-07-08T12:05:16.944205",
     "exception": false,
     "start_time": "2024-07-08T12:05:16.901339",
     "status": "completed"
    },
    "tags": []
   },
   "outputs": [],
   "source": [
    "prerequisite_counts = df.groupby('course_type')['pre_requirement'].value_counts(dropna=False).unstack(fill_value=0)"
   ]
  },
  {
   "cell_type": "code",
   "execution_count": 24,
   "id": "22a4d7a4",
   "metadata": {
    "execution": {
     "iopub.execute_input": "2024-07-08T12:05:16.983511Z",
     "iopub.status.busy": "2024-07-08T12:05:16.982716Z",
     "iopub.status.idle": "2024-07-08T12:05:16.993760Z",
     "shell.execute_reply": "2024-07-08T12:05:16.992628Z"
    },
    "papermill": {
     "duration": 0.03358,
     "end_time": "2024-07-08T12:05:16.996254",
     "exception": false,
     "start_time": "2024-07-08T12:05:16.962674",
     "status": "completed"
    },
    "tags": []
   },
   "outputs": [
    {
     "data": {
      "text/html": [
       "<div>\n",
       "<style scoped>\n",
       "    .dataframe tbody tr th:only-of-type {\n",
       "        vertical-align: middle;\n",
       "    }\n",
       "\n",
       "    .dataframe tbody tr th {\n",
       "        vertical-align: top;\n",
       "    }\n",
       "\n",
       "    .dataframe thead th {\n",
       "        text-align: right;\n",
       "    }\n",
       "</style>\n",
       "<table border=\"1\" class=\"dataframe\">\n",
       "  <thead>\n",
       "    <tr style=\"text-align: right;\">\n",
       "      <th>pre_requirement</th>\n",
       "      <th>Beginner</th>\n",
       "      <th>Intermediate</th>\n",
       "      <th>NaN</th>\n",
       "    </tr>\n",
       "    <tr>\n",
       "      <th>course_type</th>\n",
       "      <th></th>\n",
       "      <th></th>\n",
       "      <th></th>\n",
       "    </tr>\n",
       "  </thead>\n",
       "  <tbody>\n",
       "    <tr>\n",
       "      <th>classroom</th>\n",
       "      <td>192</td>\n",
       "      <td>171</td>\n",
       "      <td>112</td>\n",
       "    </tr>\n",
       "    <tr>\n",
       "      <th>online</th>\n",
       "      <td>462</td>\n",
       "      <td>134</td>\n",
       "      <td>779</td>\n",
       "    </tr>\n",
       "  </tbody>\n",
       "</table>\n",
       "</div>"
      ],
      "text/plain": [
       "pre_requirement  Beginner  Intermediate  NaN\n",
       "course_type                                 \n",
       "classroom             192           171  112\n",
       "online                462           134  779"
      ]
     },
     "execution_count": 24,
     "metadata": {},
     "output_type": "execute_result"
    }
   ],
   "source": [
    "prerequisite_counts"
   ]
  },
  {
   "cell_type": "code",
   "execution_count": 25,
   "id": "2e1f72ff",
   "metadata": {
    "execution": {
     "iopub.execute_input": "2024-07-08T12:05:17.037073Z",
     "iopub.status.busy": "2024-07-08T12:05:17.036038Z",
     "iopub.status.idle": "2024-07-08T12:05:17.041829Z",
     "shell.execute_reply": "2024-07-08T12:05:17.040554Z"
    },
    "papermill": {
     "duration": 0.028929,
     "end_time": "2024-07-08T12:05:17.044425",
     "exception": false,
     "start_time": "2024-07-08T12:05:17.015496",
     "status": "completed"
    },
    "tags": []
   },
   "outputs": [],
   "source": [
    "# make a dict of Ratios for each course type\n",
    "ratios = {\n",
    "    'classroom': {'Beginner': 192, 'Intermediate': 171, 'NaN': 112},\n",
    "    'online': {'Beginner': 462, 'Intermediate': 134, 'NaN': 779}\n",
    "}"
   ]
  },
  {
   "cell_type": "code",
   "execution_count": 26,
   "id": "87ebc7e0",
   "metadata": {
    "execution": {
     "iopub.execute_input": "2024-07-08T12:05:17.084175Z",
     "iopub.status.busy": "2024-07-08T12:05:17.083149Z",
     "iopub.status.idle": "2024-07-08T12:05:17.097373Z",
     "shell.execute_reply": "2024-07-08T12:05:17.096329Z"
    },
    "papermill": {
     "duration": 0.036847,
     "end_time": "2024-07-08T12:05:17.099974",
     "exception": false,
     "start_time": "2024-07-08T12:05:17.063127",
     "status": "completed"
    },
    "tags": []
   },
   "outputs": [],
   "source": [
    "# Calculate the number of missing values to fill for each department\n",
    "for course_type, ratio in ratios.items():\n",
    "    if course_type in df['course_type'].values:\n",
    "        num_missing = df[(df['course_type'] == course_type) & (df['pre_requirement'].isna())].shape[0]\n",
    "        total_ratio = ratio['Beginner'] + ratio['Intermediate']\n",
    "        num_beginner = int(num_missing * (ratio['Beginner'] / total_ratio))\n",
    "        num_intermediate = num_missing - num_beginner\n",
    "\n",
    "        # Fill missing values\n",
    "        df.loc[(df['course_type'] == course_type) & (df['pre_requirement'].isna()), 'pre_requirement'] = (\n",
    "            ['Beginner'] * num_beginner + ['Intermediate'] * num_intermediate\n",
    "        )"
   ]
  },
  {
   "cell_type": "markdown",
   "id": "2241e3a0",
   "metadata": {
    "papermill": {
     "duration": 0.018265,
     "end_time": "2024-07-08T12:05:17.136875",
     "exception": false,
     "start_time": "2024-07-08T12:05:17.118610",
     "status": "completed"
    },
    "tags": []
   },
   "source": [
    "In the above code a line by line description of how this code will work is given below:\n",
    "\n",
    "1. The for loop will enumerate for each item in the dictionary.\n",
    "2. Then I have added an if calse to ensure that the course type that we are currently processing is present in the datframe or not.\n",
    "3. Then we extracted te missing rows count from the prerequisite_counts dataframe.\n",
    "4. Then I have calcualted the ratio by which entries will be filled.\n",
    "5. Now that we have calculated the ratio now we have to fill the rows with missing values.\n",
    "For this I have used this code:\n",
    "        \n",
    "        df.loc[(df['course_type'] == course_type) & (df['pre_requirement'].isna()), 'pre_requirement'] = (\n",
    "            ['Beginner'] * num_beginner + ['Intermediate'] * num_intermediate)\n",
    "\n",
    "    - This line fills the missing values in the pre_requirement column for the current course_type.\n",
    "    - df.loc[(df['course_type'] == course_type) & (df['pre_requirement'].isna()), 'pre_requirement'] selects the rows where course_type matches the current course_type and pre_requirement is NaN.\n",
    "    - Then  ['Beginner'] * num_beginner + ['Intermediate'] * num_intermediate creates a list with num_beginner \"Beginner\" entries and num_intermediate \"Intermediate\" entries.\n",
    "    - This list is assigned to the selected rows, filling the missing values accordingly."
   ]
  },
  {
   "cell_type": "code",
   "execution_count": 27,
   "id": "67586ba8",
   "metadata": {
    "execution": {
     "iopub.execute_input": "2024-07-08T12:05:17.176248Z",
     "iopub.status.busy": "2024-07-08T12:05:17.175474Z",
     "iopub.status.idle": "2024-07-08T12:05:17.190081Z",
     "shell.execute_reply": "2024-07-08T12:05:17.188909Z"
    },
    "papermill": {
     "duration": 0.037344,
     "end_time": "2024-07-08T12:05:17.192845",
     "exception": false,
     "start_time": "2024-07-08T12:05:17.155501",
     "status": "completed"
    },
    "tags": []
   },
   "outputs": [
    {
     "data": {
      "text/html": [
       "<div>\n",
       "<style scoped>\n",
       "    .dataframe tbody tr th:only-of-type {\n",
       "        vertical-align: middle;\n",
       "    }\n",
       "\n",
       "    .dataframe tbody tr th {\n",
       "        vertical-align: top;\n",
       "    }\n",
       "\n",
       "    .dataframe thead th {\n",
       "        text-align: right;\n",
       "    }\n",
       "</style>\n",
       "<table border=\"1\" class=\"dataframe\">\n",
       "  <thead>\n",
       "    <tr style=\"text-align: right;\">\n",
       "      <th>pre_requirement</th>\n",
       "      <th>Beginner</th>\n",
       "      <th>Intermediate</th>\n",
       "    </tr>\n",
       "    <tr>\n",
       "      <th>course_type</th>\n",
       "      <th></th>\n",
       "      <th></th>\n",
       "    </tr>\n",
       "  </thead>\n",
       "  <tbody>\n",
       "    <tr>\n",
       "      <th>classroom</th>\n",
       "      <td>251</td>\n",
       "      <td>224</td>\n",
       "    </tr>\n",
       "    <tr>\n",
       "      <th>online</th>\n",
       "      <td>1065</td>\n",
       "      <td>310</td>\n",
       "    </tr>\n",
       "  </tbody>\n",
       "</table>\n",
       "</div>"
      ],
      "text/plain": [
       "pre_requirement  Beginner  Intermediate\n",
       "course_type                            \n",
       "classroom             251           224\n",
       "online               1065           310"
      ]
     },
     "execution_count": 27,
     "metadata": {},
     "output_type": "execute_result"
    }
   ],
   "source": [
    "prerequisite_counts2 = df.groupby('course_type')['pre_requirement'].value_counts(dropna=False).unstack(fill_value=0)\n",
    "prerequisite_counts2"
   ]
  },
  {
   "cell_type": "markdown",
   "id": "cf94111e",
   "metadata": {
    "papermill": {
     "duration": 0.018749,
     "end_time": "2024-07-08T12:05:17.230555",
     "exception": false,
     "start_time": "2024-07-08T12:05:17.211806",
     "status": "completed"
    },
    "tags": []
   },
   "source": [
    "In the above output we can clearly see that the missing values has been removes while the ratios has been preserved."
   ]
  },
  {
   "cell_type": "code",
   "execution_count": 28,
   "id": "2a9b2ddc",
   "metadata": {
    "execution": {
     "iopub.execute_input": "2024-07-08T12:05:17.270410Z",
     "iopub.status.busy": "2024-07-08T12:05:17.269967Z",
     "iopub.status.idle": "2024-07-08T12:05:17.279727Z",
     "shell.execute_reply": "2024-07-08T12:05:17.278436Z"
    },
    "papermill": {
     "duration": 0.03261,
     "end_time": "2024-07-08T12:05:17.282205",
     "exception": false,
     "start_time": "2024-07-08T12:05:17.249595",
     "status": "completed"
    },
    "tags": []
   },
   "outputs": [
    {
     "data": {
      "text/plain": [
       "course_type         0\n",
       "year                0\n",
       "enrollment_count    0\n",
       "pre_score           0\n",
       "post_score          0\n",
       "pre_requirement     0\n",
       "department          0\n",
       "dtype: int64"
      ]
     },
     "execution_count": 28,
     "metadata": {},
     "output_type": "execute_result"
    }
   ],
   "source": [
    "df.isnull().sum()"
   ]
  },
  {
   "cell_type": "code",
   "execution_count": 29,
   "id": "320251ec",
   "metadata": {
    "execution": {
     "iopub.execute_input": "2024-07-08T12:05:17.322326Z",
     "iopub.status.busy": "2024-07-08T12:05:17.321890Z",
     "iopub.status.idle": "2024-07-08T12:05:17.973690Z",
     "shell.execute_reply": "2024-07-08T12:05:17.972464Z"
    },
    "papermill": {
     "duration": 0.675114,
     "end_time": "2024-07-08T12:05:17.976444",
     "exception": false,
     "start_time": "2024-07-08T12:05:17.301330",
     "status": "completed"
    },
    "tags": []
   },
   "outputs": [
    {
     "data": {
      "image/png": "[encoded data removed]",
      "text/plain": [
       "<Figure size 1000x500 with 2 Axes>"
      ]
     },
     "metadata": {},
     "output_type": "display_data"
    }
   ],
   "source": [
    "# Plotting histograms to compare the data\n",
    "fig, axes = plt.subplots(1, 2, figsize=(10, 5))\n",
    "\n",
    "# First histogram (before filling missing values)\n",
    "prerequisite_counts.plot(kind='bar', ax=axes[0], color=['b', 'g', 'r'])\n",
    "axes[0].set_xlabel('Course Type')\n",
    "axes[0].set_ylabel('Count')\n",
    "axes[0].set_title('(Before Filling Missing Values)')\n",
    "axes[0].legend(title='Pre-requirement')\n",
    "\n",
    "# Second histogram (after filling missing values)\n",
    "prerequisite_counts2.plot(kind='bar', ax=axes[1], color=['b', 'g'])\n",
    "axes[1].set_xlabel('Course Type')\n",
    "axes[1].set_ylabel('Count')\n",
    "axes[1].set_title('(After Filling Missing Values)')\n",
    "axes[1].legend(title='Pre-requirement')\n",
    "\n",
    "# Set the y-axis limits to be the same for both plots\n",
    "y_max = max(prerequisite_counts.max().max(), prerequisite_counts2.max().max())\n",
    "axes[0].set_ylim(0, y_max)\n",
    "axes[1].set_ylim(0, y_max)\n",
    "\n",
    "plt.tight_layout()\n",
    "plt.show()"
   ]
  },
  {
   "cell_type": "markdown",
   "id": "9f0ba6e4",
   "metadata": {
    "papermill": {
     "duration": 0.01961,
     "end_time": "2024-07-08T12:05:18.015870",
     "exception": false,
     "start_time": "2024-07-08T12:05:17.996260",
     "status": "completed"
    },
    "tags": []
   },
   "source": [
    "From the above dirtibution we can clearly see that our distribution has not changed before and after removing the missing values form dataframe. This means our approach was good for removing the missing values as it has not affected our data.\n",
    "\n",
    "Now the data has been cleaned so now its time for data analysis!"
   ]
  },
  {
   "cell_type": "code",
   "execution_count": 30,
   "id": "bc864273",
   "metadata": {
    "execution": {
     "iopub.execute_input": "2024-07-08T12:05:18.057630Z",
     "iopub.status.busy": "2024-07-08T12:05:18.057219Z",
     "iopub.status.idle": "2024-07-08T12:05:18.074501Z",
     "shell.execute_reply": "2024-07-08T12:05:18.073337Z"
    },
    "papermill": {
     "duration": 0.041118,
     "end_time": "2024-07-08T12:05:18.077320",
     "exception": false,
     "start_time": "2024-07-08T12:05:18.036202",
     "status": "completed"
    },
    "tags": []
   },
   "outputs": [],
   "source": [
    "# Save the cleaned data\n",
    "df.to_csv('/kaggle/working/DATA.csv', index=False)  # index=False prevents the index from being written in the file"
   ]
  },
  {
   "cell_type": "code",
   "execution_count": 31,
   "id": "7d65dd0b",
   "metadata": {
    "execution": {
     "iopub.execute_input": "2024-07-08T12:05:18.119531Z",
     "iopub.status.busy": "2024-07-08T12:05:18.118723Z",
     "iopub.status.idle": "2024-07-08T12:05:18.134431Z",
     "shell.execute_reply": "2024-07-08T12:05:18.133075Z"
    },
    "papermill": {
     "duration": 0.039499,
     "end_time": "2024-07-08T12:05:18.136926",
     "exception": false,
     "start_time": "2024-07-08T12:05:18.097427",
     "status": "completed"
    },
    "tags": []
   },
   "outputs": [
    {
     "data": {
      "text/html": [
       "<div>\n",
       "<style scoped>\n",
       "    .dataframe tbody tr th:only-of-type {\n",
       "        vertical-align: middle;\n",
       "    }\n",
       "\n",
       "    .dataframe tbody tr th {\n",
       "        vertical-align: top;\n",
       "    }\n",
       "\n",
       "    .dataframe thead th {\n",
       "        text-align: right;\n",
       "    }\n",
       "</style>\n",
       "<table border=\"1\" class=\"dataframe\">\n",
       "  <thead>\n",
       "    <tr style=\"text-align: right;\">\n",
       "      <th></th>\n",
       "      <th>course_type</th>\n",
       "      <th>year</th>\n",
       "      <th>enrollment_count</th>\n",
       "      <th>pre_score</th>\n",
       "      <th>post_score</th>\n",
       "      <th>pre_requirement</th>\n",
       "      <th>department</th>\n",
       "    </tr>\n",
       "    <tr>\n",
       "      <th>course_id</th>\n",
       "      <th></th>\n",
       "      <th></th>\n",
       "      <th></th>\n",
       "      <th></th>\n",
       "      <th></th>\n",
       "      <th></th>\n",
       "      <th></th>\n",
       "    </tr>\n",
       "  </thead>\n",
       "  <tbody>\n",
       "    <tr>\n",
       "      <th>1</th>\n",
       "      <td>classroom</td>\n",
       "      <td>2018-01-01</td>\n",
       "      <td>165</td>\n",
       "      <td>28.14</td>\n",
       "      <td>73.0</td>\n",
       "      <td>Beginner</td>\n",
       "      <td>Science</td>\n",
       "    </tr>\n",
       "    <tr>\n",
       "      <th>2</th>\n",
       "      <td>classroom</td>\n",
       "      <td>2020-01-01</td>\n",
       "      <td>175</td>\n",
       "      <td>79.68</td>\n",
       "      <td>86.0</td>\n",
       "      <td>Beginner</td>\n",
       "      <td>Science</td>\n",
       "    </tr>\n",
       "    <tr>\n",
       "      <th>3</th>\n",
       "      <td>online</td>\n",
       "      <td>2016-01-01</td>\n",
       "      <td>257</td>\n",
       "      <td>57.24</td>\n",
       "      <td>80.0</td>\n",
       "      <td>Beginner</td>\n",
       "      <td>Mathematics</td>\n",
       "    </tr>\n",
       "    <tr>\n",
       "      <th>4</th>\n",
       "      <td>online</td>\n",
       "      <td>2013-01-01</td>\n",
       "      <td>251</td>\n",
       "      <td>97.67</td>\n",
       "      <td>75.0</td>\n",
       "      <td>Beginner</td>\n",
       "      <td>Technology</td>\n",
       "    </tr>\n",
       "    <tr>\n",
       "      <th>5</th>\n",
       "      <td>classroom</td>\n",
       "      <td>2019-01-01</td>\n",
       "      <td>165</td>\n",
       "      <td>39.75</td>\n",
       "      <td>76.0</td>\n",
       "      <td>Beginner</td>\n",
       "      <td>Science</td>\n",
       "    </tr>\n",
       "  </tbody>\n",
       "</table>\n",
       "</div>"
      ],
      "text/plain": [
       "          course_type       year  enrollment_count  pre_score  post_score  \\\n",
       "course_id                                                                   \n",
       "1           classroom 2018-01-01               165      28.14        73.0   \n",
       "2           classroom 2020-01-01               175      79.68        86.0   \n",
       "3              online 2016-01-01               257      57.24        80.0   \n",
       "4              online 2013-01-01               251      97.67        75.0   \n",
       "5           classroom 2019-01-01               165      39.75        76.0   \n",
       "\n",
       "          pre_requirement   department  \n",
       "course_id                               \n",
       "1                Beginner      Science  \n",
       "2                Beginner      Science  \n",
       "3                Beginner  Mathematics  \n",
       "4                Beginner   Technology  \n",
       "5                Beginner      Science  "
      ]
     },
     "execution_count": 31,
     "metadata": {},
     "output_type": "execute_result"
    }
   ],
   "source": [
    "df.head()"
   ]
  },
  {
   "cell_type": "markdown",
   "id": "f4552a3d",
   "metadata": {
    "papermill": {
     "duration": 0.019712,
     "end_time": "2024-07-08T12:05:18.178246",
     "exception": false,
     "start_time": "2024-07-08T12:05:18.158534",
     "status": "completed"
    },
    "tags": []
   },
   "source": [
    "---\n",
    "## **DATA ANALYSIS**\n",
    "In this section we will be visualizing how different factors affect the enrollment of students in classroom and online course_types.\n",
    "\n",
    "First let's visualize the trend of enrollment count over the years for classroom and online course types. It will help us analyze which mode us studying is becoming more preferable over the time.\n",
    "\n",
    "First let's subset the rows according to course type."
   ]
  },
  {
   "cell_type": "code",
   "execution_count": 32,
   "id": "11d1caf0",
   "metadata": {
    "execution": {
     "iopub.execute_input": "2024-07-08T12:05:18.220273Z",
     "iopub.status.busy": "2024-07-08T12:05:18.219702Z",
     "iopub.status.idle": "2024-07-08T12:05:18.229159Z",
     "shell.execute_reply": "2024-07-08T12:05:18.227912Z"
    },
    "papermill": {
     "duration": 0.033398,
     "end_time": "2024-07-08T12:05:18.231911",
     "exception": false,
     "start_time": "2024-07-08T12:05:18.198513",
     "status": "completed"
    },
    "tags": []
   },
   "outputs": [],
   "source": [
    "# Subset the dataframe for course type\n",
    "classroom_data = df[df['course_type'] == 'classroom']\n",
    "online_data = df[df['course_type'] == 'online']"
   ]
  },
  {
   "cell_type": "markdown",
   "id": "800f412f",
   "metadata": {
    "papermill": {
     "duration": 0.020106,
     "end_time": "2024-07-08T12:05:18.271889",
     "exception": false,
     "start_time": "2024-07-08T12:05:18.251783",
     "status": "completed"
    },
    "tags": []
   },
   "source": [
    "In the above dataframes created classroom_data has all ros where course_type is classroom, whereas online_data has all the rows where course_type is online."
   ]
  },
  {
   "cell_type": "code",
   "execution_count": 33,
   "id": "00428fcd",
   "metadata": {
    "execution": {
     "iopub.execute_input": "2024-07-08T12:05:18.313102Z",
     "iopub.status.busy": "2024-07-08T12:05:18.312654Z",
     "iopub.status.idle": "2024-07-08T12:05:18.328172Z",
     "shell.execute_reply": "2024-07-08T12:05:18.326933Z"
    },
    "papermill": {
     "duration": 0.03895,
     "end_time": "2024-07-08T12:05:18.330568",
     "exception": false,
     "start_time": "2024-07-08T12:05:18.291618",
     "status": "completed"
    },
    "tags": []
   },
   "outputs": [
    {
     "data": {
      "text/html": [
       "<div>\n",
       "<style scoped>\n",
       "    .dataframe tbody tr th:only-of-type {\n",
       "        vertical-align: middle;\n",
       "    }\n",
       "\n",
       "    .dataframe tbody tr th {\n",
       "        vertical-align: top;\n",
       "    }\n",
       "\n",
       "    .dataframe thead th {\n",
       "        text-align: right;\n",
       "    }\n",
       "</style>\n",
       "<table border=\"1\" class=\"dataframe\">\n",
       "  <thead>\n",
       "    <tr style=\"text-align: right;\">\n",
       "      <th></th>\n",
       "      <th>course_type</th>\n",
       "      <th>year</th>\n",
       "      <th>enrollment_count</th>\n",
       "      <th>pre_score</th>\n",
       "      <th>post_score</th>\n",
       "      <th>pre_requirement</th>\n",
       "      <th>department</th>\n",
       "    </tr>\n",
       "    <tr>\n",
       "      <th>course_id</th>\n",
       "      <th></th>\n",
       "      <th></th>\n",
       "      <th></th>\n",
       "      <th></th>\n",
       "      <th></th>\n",
       "      <th></th>\n",
       "      <th></th>\n",
       "    </tr>\n",
       "  </thead>\n",
       "  <tbody>\n",
       "    <tr>\n",
       "      <th>1</th>\n",
       "      <td>classroom</td>\n",
       "      <td>2018-01-01</td>\n",
       "      <td>165</td>\n",
       "      <td>28.14</td>\n",
       "      <td>73.0</td>\n",
       "      <td>Beginner</td>\n",
       "      <td>Science</td>\n",
       "    </tr>\n",
       "    <tr>\n",
       "      <th>2</th>\n",
       "      <td>classroom</td>\n",
       "      <td>2020-01-01</td>\n",
       "      <td>175</td>\n",
       "      <td>79.68</td>\n",
       "      <td>86.0</td>\n",
       "      <td>Beginner</td>\n",
       "      <td>Science</td>\n",
       "    </tr>\n",
       "    <tr>\n",
       "      <th>5</th>\n",
       "      <td>classroom</td>\n",
       "      <td>2019-01-01</td>\n",
       "      <td>165</td>\n",
       "      <td>39.75</td>\n",
       "      <td>76.0</td>\n",
       "      <td>Beginner</td>\n",
       "      <td>Science</td>\n",
       "    </tr>\n",
       "    <tr>\n",
       "      <th>10</th>\n",
       "      <td>classroom</td>\n",
       "      <td>2016-01-01</td>\n",
       "      <td>180</td>\n",
       "      <td>83.53</td>\n",
       "      <td>79.0</td>\n",
       "      <td>Beginner</td>\n",
       "      <td>Engineering</td>\n",
       "    </tr>\n",
       "    <tr>\n",
       "      <th>11</th>\n",
       "      <td>classroom</td>\n",
       "      <td>2022-01-01</td>\n",
       "      <td>180</td>\n",
       "      <td>9.84</td>\n",
       "      <td>74.0</td>\n",
       "      <td>Beginner</td>\n",
       "      <td>Engineering</td>\n",
       "    </tr>\n",
       "  </tbody>\n",
       "</table>\n",
       "</div>"
      ],
      "text/plain": [
       "          course_type       year  enrollment_count  pre_score  post_score  \\\n",
       "course_id                                                                   \n",
       "1           classroom 2018-01-01               165      28.14        73.0   \n",
       "2           classroom 2020-01-01               175      79.68        86.0   \n",
       "5           classroom 2019-01-01               165      39.75        76.0   \n",
       "10          classroom 2016-01-01               180      83.53        79.0   \n",
       "11          classroom 2022-01-01               180       9.84        74.0   \n",
       "\n",
       "          pre_requirement   department  \n",
       "course_id                               \n",
       "1                Beginner      Science  \n",
       "2                Beginner      Science  \n",
       "5                Beginner      Science  \n",
       "10               Beginner  Engineering  \n",
       "11               Beginner  Engineering  "
      ]
     },
     "execution_count": 33,
     "metadata": {},
     "output_type": "execute_result"
    }
   ],
   "source": [
    "classroom_data.head()"
   ]
  },
  {
   "cell_type": "code",
   "execution_count": 34,
   "id": "d0a41be4",
   "metadata": {
    "execution": {
     "iopub.execute_input": "2024-07-08T12:05:18.372813Z",
     "iopub.status.busy": "2024-07-08T12:05:18.371800Z",
     "iopub.status.idle": "2024-07-08T12:05:18.386479Z",
     "shell.execute_reply": "2024-07-08T12:05:18.385312Z"
    },
    "papermill": {
     "duration": 0.038164,
     "end_time": "2024-07-08T12:05:18.388698",
     "exception": false,
     "start_time": "2024-07-08T12:05:18.350534",
     "status": "completed"
    },
    "tags": []
   },
   "outputs": [
    {
     "data": {
      "text/html": [
       "<div>\n",
       "<style scoped>\n",
       "    .dataframe tbody tr th:only-of-type {\n",
       "        vertical-align: middle;\n",
       "    }\n",
       "\n",
       "    .dataframe tbody tr th {\n",
       "        vertical-align: top;\n",
       "    }\n",
       "\n",
       "    .dataframe thead th {\n",
       "        text-align: right;\n",
       "    }\n",
       "</style>\n",
       "<table border=\"1\" class=\"dataframe\">\n",
       "  <thead>\n",
       "    <tr style=\"text-align: right;\">\n",
       "      <th></th>\n",
       "      <th>course_type</th>\n",
       "      <th>year</th>\n",
       "      <th>enrollment_count</th>\n",
       "      <th>pre_score</th>\n",
       "      <th>post_score</th>\n",
       "      <th>pre_requirement</th>\n",
       "      <th>department</th>\n",
       "    </tr>\n",
       "    <tr>\n",
       "      <th>course_id</th>\n",
       "      <th></th>\n",
       "      <th></th>\n",
       "      <th></th>\n",
       "      <th></th>\n",
       "      <th></th>\n",
       "      <th></th>\n",
       "      <th></th>\n",
       "    </tr>\n",
       "  </thead>\n",
       "  <tbody>\n",
       "    <tr>\n",
       "      <th>3</th>\n",
       "      <td>online</td>\n",
       "      <td>2016-01-01</td>\n",
       "      <td>257</td>\n",
       "      <td>57.24</td>\n",
       "      <td>80.0</td>\n",
       "      <td>Beginner</td>\n",
       "      <td>Mathematics</td>\n",
       "    </tr>\n",
       "    <tr>\n",
       "      <th>4</th>\n",
       "      <td>online</td>\n",
       "      <td>2013-01-01</td>\n",
       "      <td>251</td>\n",
       "      <td>97.67</td>\n",
       "      <td>75.0</td>\n",
       "      <td>Beginner</td>\n",
       "      <td>Technology</td>\n",
       "    </tr>\n",
       "    <tr>\n",
       "      <th>6</th>\n",
       "      <td>online</td>\n",
       "      <td>2014-01-01</td>\n",
       "      <td>246</td>\n",
       "      <td>50.10</td>\n",
       "      <td>76.0</td>\n",
       "      <td>Beginner</td>\n",
       "      <td>Mathematics</td>\n",
       "    </tr>\n",
       "    <tr>\n",
       "      <th>7</th>\n",
       "      <td>online</td>\n",
       "      <td>2021-01-01</td>\n",
       "      <td>241</td>\n",
       "      <td>87.83</td>\n",
       "      <td>84.0</td>\n",
       "      <td>Beginner</td>\n",
       "      <td>Science</td>\n",
       "    </tr>\n",
       "    <tr>\n",
       "      <th>8</th>\n",
       "      <td>online</td>\n",
       "      <td>2018-01-01</td>\n",
       "      <td>261</td>\n",
       "      <td>76.48</td>\n",
       "      <td>88.0</td>\n",
       "      <td>Beginner</td>\n",
       "      <td>Technology</td>\n",
       "    </tr>\n",
       "  </tbody>\n",
       "</table>\n",
       "</div>"
      ],
      "text/plain": [
       "          course_type       year  enrollment_count  pre_score  post_score  \\\n",
       "course_id                                                                   \n",
       "3              online 2016-01-01               257      57.24        80.0   \n",
       "4              online 2013-01-01               251      97.67        75.0   \n",
       "6              online 2014-01-01               246      50.10        76.0   \n",
       "7              online 2021-01-01               241      87.83        84.0   \n",
       "8              online 2018-01-01               261      76.48        88.0   \n",
       "\n",
       "          pre_requirement   department  \n",
       "course_id                               \n",
       "3                Beginner  Mathematics  \n",
       "4                Beginner   Technology  \n",
       "6                Beginner  Mathematics  \n",
       "7                Beginner      Science  \n",
       "8                Beginner   Technology  "
      ]
     },
     "execution_count": 34,
     "metadata": {},
     "output_type": "execute_result"
    }
   ],
   "source": [
    "online_data.head()"
   ]
  },
  {
   "cell_type": "markdown",
   "id": "dd110937",
   "metadata": {
    "papermill": {
     "duration": 0.021383,
     "end_time": "2024-07-08T12:05:18.430794",
     "exception": false,
     "start_time": "2024-07-08T12:05:18.409411",
     "status": "completed"
    },
    "tags": []
   },
   "source": [
    "### **Visualizing Enrollment trends over the years**\n",
    "Let's make a time-series scatter plot to see the trend of studying over time."
   ]
  },
  {
   "cell_type": "code",
   "execution_count": 35,
   "id": "c3172482",
   "metadata": {
    "execution": {
     "iopub.execute_input": "2024-07-08T12:05:18.473156Z",
     "iopub.status.busy": "2024-07-08T12:05:18.472732Z",
     "iopub.status.idle": "2024-07-08T12:05:18.928557Z",
     "shell.execute_reply": "2024-07-08T12:05:18.927315Z"
    },
    "papermill": {
     "duration": 0.480395,
     "end_time": "2024-07-08T12:05:18.931539",
     "exception": false,
     "start_time": "2024-07-08T12:05:18.451144",
     "status": "completed"
    },
    "tags": []
   },
   "outputs": [
    {
     "data": {
      "image/png": "[encoded data removed]",
      "text/plain": [
       "<Figure size 640x480 with 1 Axes>"
      ]
     },
     "metadata": {},
     "output_type": "display_data"
    }
   ],
   "source": [
    "plt.scatter(classroom_data['year'], classroom_data['enrollment_count'], label='Classroom', color='palevioletred')\n",
    "plt.scatter(online_data['year'], online_data['enrollment_count'], label='Online', color='indigo')\n",
    "# Adding titles and labels\n",
    "plt.title('Enrollment Count Trend by Course Type Over the Years')\n",
    "plt.xlabel('Year')\n",
    "plt.ylabel('Enrollment Count')\n",
    "plt.legend()\n",
    "# Show plot\n",
    "plt.grid(True, alpha = 0.5)\n",
    "plt.show()"
   ]
  },
  {
   "cell_type": "markdown",
   "id": "996e1d68",
   "metadata": {
    "papermill": {
     "duration": 0.021353,
     "end_time": "2024-07-08T12:05:18.974322",
     "exception": false,
     "start_time": "2024-07-08T12:05:18.952969",
     "status": "completed"
    },
    "tags": []
   },
   "source": [
    "From the above plot we can clearly see that:\n",
    "\n",
    "**- The enrollment trend has reamined almost unchanged from the year 2011 to 2022.**\n",
    "\n",
    "**- But the enrollment count for online courses is more than the clasroom classes.**\n",
    "\n",
    "**- Thus we can conclude that more students are intereseted in taking online courses than classroom courses.**"
   ]
  },
  {
   "cell_type": "markdown",
   "id": "befc06cd",
   "metadata": {
    "papermill": {
     "duration": 0.021385,
     "end_time": "2024-07-08T12:05:19.017333",
     "exception": false,
     "start_time": "2024-07-08T12:05:18.995948",
     "status": "completed"
    },
    "tags": []
   },
   "source": [
    "### **Enrollment Count by Department - Classroom vs Online Data**\n",
    "Now let's analyze the enrollment of students in classroom and online courses in all the departments.\n",
    "\n",
    "In this plot we will be analyzing that in which departments students are more wiling to take courses online and in which departments students are willing to take courses in classrooms.\n",
    "\n",
    "We will analyze the data over the years based on the enrollment count for each department in both classroom and online classes.\n",
    "\n",
    "But first let's group our data for the plot.\n",
    "- I have already made the separate dataframes for classroom courses and online courses.\n",
    "- We will group classroom_data, online_data dataframes in such a way that they have the sum of enrollment count for every year."
   ]
  },
  {
   "cell_type": "code",
   "execution_count": 36,
   "id": "2e79068c",
   "metadata": {
    "execution": {
     "iopub.execute_input": "2024-07-08T12:05:19.064408Z",
     "iopub.status.busy": "2024-07-08T12:05:19.063172Z",
     "iopub.status.idle": "2024-07-08T12:05:19.081434Z",
     "shell.execute_reply": "2024-07-08T12:05:19.080096Z"
    },
    "papermill": {
     "duration": 0.044728,
     "end_time": "2024-07-08T12:05:19.084442",
     "exception": false,
     "start_time": "2024-07-08T12:05:19.039714",
     "status": "completed"
    },
    "tags": []
   },
   "outputs": [],
   "source": [
    "# Group by department and year, summing up the enrollment counts\n",
    "classroom_grouped = classroom_data.groupby(['department', classroom_data['year'].dt.year])['enrollment_count'].sum().unstack()\n",
    "online_grouped = online_data.groupby(['department', online_data['year'].dt.year])['enrollment_count'].sum().unstack()"
   ]
  },
  {
   "cell_type": "code",
   "execution_count": 37,
   "id": "a3d18d96",
   "metadata": {
    "execution": {
     "iopub.execute_input": "2024-07-08T12:05:19.128852Z",
     "iopub.status.busy": "2024-07-08T12:05:19.128459Z",
     "iopub.status.idle": "2024-07-08T12:05:19.142699Z",
     "shell.execute_reply": "2024-07-08T12:05:19.141529Z"
    },
    "papermill": {
     "duration": 0.039536,
     "end_time": "2024-07-08T12:05:19.145330",
     "exception": false,
     "start_time": "2024-07-08T12:05:19.105794",
     "status": "completed"
    },
    "tags": []
   },
   "outputs": [
    {
     "data": {
      "text/html": [
       "<div>\n",
       "<style scoped>\n",
       "    .dataframe tbody tr th:only-of-type {\n",
       "        vertical-align: middle;\n",
       "    }\n",
       "\n",
       "    .dataframe tbody tr th {\n",
       "        vertical-align: top;\n",
       "    }\n",
       "\n",
       "    .dataframe thead th {\n",
       "        text-align: right;\n",
       "    }\n",
       "</style>\n",
       "<table border=\"1\" class=\"dataframe\">\n",
       "  <thead>\n",
       "    <tr style=\"text-align: right;\">\n",
       "      <th>year</th>\n",
       "      <th>2011</th>\n",
       "      <th>2012</th>\n",
       "      <th>2013</th>\n",
       "      <th>2014</th>\n",
       "      <th>2015</th>\n",
       "      <th>2016</th>\n",
       "      <th>2017</th>\n",
       "      <th>2018</th>\n",
       "      <th>2019</th>\n",
       "      <th>2020</th>\n",
       "      <th>2021</th>\n",
       "      <th>2022</th>\n",
       "    </tr>\n",
       "    <tr>\n",
       "      <th>department</th>\n",
       "      <th></th>\n",
       "      <th></th>\n",
       "      <th></th>\n",
       "      <th></th>\n",
       "      <th></th>\n",
       "      <th></th>\n",
       "      <th></th>\n",
       "      <th></th>\n",
       "      <th></th>\n",
       "      <th></th>\n",
       "      <th></th>\n",
       "      <th></th>\n",
       "    </tr>\n",
       "  </thead>\n",
       "  <tbody>\n",
       "    <tr>\n",
       "      <th>Engineering</th>\n",
       "      <td>2101</td>\n",
       "      <td>680</td>\n",
       "      <td>2090</td>\n",
       "      <td>2610</td>\n",
       "      <td>1761</td>\n",
       "      <td>1570</td>\n",
       "      <td>2091</td>\n",
       "      <td>1420</td>\n",
       "      <td>2120</td>\n",
       "      <td>1780</td>\n",
       "      <td>2281</td>\n",
       "      <td>1421</td>\n",
       "    </tr>\n",
       "    <tr>\n",
       "      <th>Mathematics</th>\n",
       "      <td>872</td>\n",
       "      <td>861</td>\n",
       "      <td>871</td>\n",
       "      <td>2261</td>\n",
       "      <td>1762</td>\n",
       "      <td>2083</td>\n",
       "      <td>1711</td>\n",
       "      <td>842</td>\n",
       "      <td>1198</td>\n",
       "      <td>1171</td>\n",
       "      <td>1041</td>\n",
       "      <td>850</td>\n",
       "    </tr>\n",
       "    <tr>\n",
       "      <th>Science</th>\n",
       "      <td>2960</td>\n",
       "      <td>2778</td>\n",
       "      <td>2601</td>\n",
       "      <td>2125</td>\n",
       "      <td>2911</td>\n",
       "      <td>2125</td>\n",
       "      <td>1485</td>\n",
       "      <td>2426</td>\n",
       "      <td>2910</td>\n",
       "      <td>1825</td>\n",
       "      <td>2505</td>\n",
       "      <td>2405</td>\n",
       "    </tr>\n",
       "    <tr>\n",
       "      <th>Technology</th>\n",
       "      <td>720</td>\n",
       "      <td>1770</td>\n",
       "      <td>2100</td>\n",
       "      <td>1595</td>\n",
       "      <td>720</td>\n",
       "      <td>1410</td>\n",
       "      <td>350</td>\n",
       "      <td>1575</td>\n",
       "      <td>855</td>\n",
       "      <td>1060</td>\n",
       "      <td>1030</td>\n",
       "      <td>1265</td>\n",
       "    </tr>\n",
       "  </tbody>\n",
       "</table>\n",
       "</div>"
      ],
      "text/plain": [
       "year         2011  2012  2013  2014  2015  2016  2017  2018  2019  2020  2021  \\\n",
       "department                                                                      \n",
       "Engineering  2101   680  2090  2610  1761  1570  2091  1420  2120  1780  2281   \n",
       "Mathematics   872   861   871  2261  1762  2083  1711   842  1198  1171  1041   \n",
       "Science      2960  2778  2601  2125  2911  2125  1485  2426  2910  1825  2505   \n",
       "Technology    720  1770  2100  1595   720  1410   350  1575   855  1060  1030   \n",
       "\n",
       "year         2022  \n",
       "department         \n",
       "Engineering  1421  \n",
       "Mathematics   850  \n",
       "Science      2405  \n",
       "Technology   1265  "
      ]
     },
     "execution_count": 37,
     "metadata": {},
     "output_type": "execute_result"
    }
   ],
   "source": [
    "classroom_grouped.head()"
   ]
  },
  {
   "cell_type": "markdown",
   "id": "cdea938e",
   "metadata": {
    "papermill": {
     "duration": 0.021238,
     "end_time": "2024-07-08T12:05:19.188715",
     "exception": false,
     "start_time": "2024-07-08T12:05:19.167477",
     "status": "completed"
    },
    "tags": []
   },
   "source": [
    "- Now you can we that the classroom_grouped has the sum of the enrollment count for each department over the years from 2011 to 2022 for the classroom courses. \n",
    "- The same process has been followed for online data.\n",
    "- Now to make a comparison of both data we need to have a common scale so that we can clearly diferentiate between both of them.\n",
    "- For that I have normalized my enrollment count for both classroom data and online data."
   ]
  },
  {
   "cell_type": "code",
   "execution_count": 38,
   "id": "1d080baf",
   "metadata": {
    "execution": {
     "iopub.execute_input": "2024-07-08T12:05:19.233893Z",
     "iopub.status.busy": "2024-07-08T12:05:19.233508Z",
     "iopub.status.idle": "2024-07-08T12:05:19.243365Z",
     "shell.execute_reply": "2024-07-08T12:05:19.242134Z"
    },
    "papermill": {
     "duration": 0.03558,
     "end_time": "2024-07-08T12:05:19.245975",
     "exception": false,
     "start_time": "2024-07-08T12:05:19.210395",
     "status": "completed"
    },
    "tags": []
   },
   "outputs": [],
   "source": [
    "# Normalize the data using Pandas\n",
    "classroom_grouped_normalized = (classroom_grouped - classroom_grouped.min()) /(classroom_grouped.max() - classroom_grouped.min())\n",
    "online_grouped_normalized = (online_grouped - online_grouped.min()) / (online_grouped.max() - online_grouped.min())"
   ]
  },
  {
   "cell_type": "code",
   "execution_count": 39,
   "id": "a358d847",
   "metadata": {
    "execution": {
     "iopub.execute_input": "2024-07-08T12:05:19.294076Z",
     "iopub.status.busy": "2024-07-08T12:05:19.293614Z",
     "iopub.status.idle": "2024-07-08T12:05:19.312283Z",
     "shell.execute_reply": "2024-07-08T12:05:19.311099Z"
    },
    "papermill": {
     "duration": 0.045631,
     "end_time": "2024-07-08T12:05:19.314794",
     "exception": false,
     "start_time": "2024-07-08T12:05:19.269163",
     "status": "completed"
    },
    "tags": []
   },
   "outputs": [
    {
     "data": {
      "text/html": [
       "<div>\n",
       "<style scoped>\n",
       "    .dataframe tbody tr th:only-of-type {\n",
       "        vertical-align: middle;\n",
       "    }\n",
       "\n",
       "    .dataframe tbody tr th {\n",
       "        vertical-align: top;\n",
       "    }\n",
       "\n",
       "    .dataframe thead th {\n",
       "        text-align: right;\n",
       "    }\n",
       "</style>\n",
       "<table border=\"1\" class=\"dataframe\">\n",
       "  <thead>\n",
       "    <tr style=\"text-align: right;\">\n",
       "      <th>year</th>\n",
       "      <th>2011</th>\n",
       "      <th>2012</th>\n",
       "      <th>2013</th>\n",
       "      <th>2014</th>\n",
       "      <th>2015</th>\n",
       "      <th>2016</th>\n",
       "      <th>2017</th>\n",
       "      <th>2018</th>\n",
       "      <th>2019</th>\n",
       "      <th>2020</th>\n",
       "      <th>2021</th>\n",
       "      <th>2022</th>\n",
       "    </tr>\n",
       "    <tr>\n",
       "      <th>department</th>\n",
       "      <th></th>\n",
       "      <th></th>\n",
       "      <th></th>\n",
       "      <th></th>\n",
       "      <th></th>\n",
       "      <th></th>\n",
       "      <th></th>\n",
       "      <th></th>\n",
       "      <th></th>\n",
       "      <th></th>\n",
       "      <th></th>\n",
       "      <th></th>\n",
       "    </tr>\n",
       "  </thead>\n",
       "  <tbody>\n",
       "    <tr>\n",
       "      <th>Engineering</th>\n",
       "      <td>0.000000</td>\n",
       "      <td>0.000000</td>\n",
       "      <td>0.000000</td>\n",
       "      <td>0.000000</td>\n",
       "      <td>0.000000</td>\n",
       "      <td>0.000000</td>\n",
       "      <td>0.000000</td>\n",
       "      <td>0.000000</td>\n",
       "      <td>0.000000</td>\n",
       "      <td>0.000000</td>\n",
       "      <td>0.000000</td>\n",
       "      <td>0.000000</td>\n",
       "    </tr>\n",
       "    <tr>\n",
       "      <th>Mathematics</th>\n",
       "      <td>0.452547</td>\n",
       "      <td>0.542761</td>\n",
       "      <td>0.624907</td>\n",
       "      <td>0.433408</td>\n",
       "      <td>0.283734</td>\n",
       "      <td>0.410873</td>\n",
       "      <td>0.330677</td>\n",
       "      <td>0.525027</td>\n",
       "      <td>0.536670</td>\n",
       "      <td>0.458057</td>\n",
       "      <td>0.481481</td>\n",
       "      <td>0.412388</td>\n",
       "    </tr>\n",
       "    <tr>\n",
       "      <th>Science</th>\n",
       "      <td>0.391259</td>\n",
       "      <td>0.318784</td>\n",
       "      <td>0.515370</td>\n",
       "      <td>0.268010</td>\n",
       "      <td>0.492614</td>\n",
       "      <td>0.469549</td>\n",
       "      <td>0.208386</td>\n",
       "      <td>0.194598</td>\n",
       "      <td>0.476273</td>\n",
       "      <td>0.146623</td>\n",
       "      <td>0.359477</td>\n",
       "      <td>0.255219</td>\n",
       "    </tr>\n",
       "    <tr>\n",
       "      <th>Technology</th>\n",
       "      <td>1.000000</td>\n",
       "      <td>1.000000</td>\n",
       "      <td>1.000000</td>\n",
       "      <td>1.000000</td>\n",
       "      <td>1.000000</td>\n",
       "      <td>1.000000</td>\n",
       "      <td>1.000000</td>\n",
       "      <td>1.000000</td>\n",
       "      <td>1.000000</td>\n",
       "      <td>1.000000</td>\n",
       "      <td>1.000000</td>\n",
       "      <td>1.000000</td>\n",
       "    </tr>\n",
       "  </tbody>\n",
       "</table>\n",
       "</div>"
      ],
      "text/plain": [
       "year             2011      2012      2013      2014      2015      2016  \\\n",
       "department                                                                \n",
       "Engineering  0.000000  0.000000  0.000000  0.000000  0.000000  0.000000   \n",
       "Mathematics  0.452547  0.542761  0.624907  0.433408  0.283734  0.410873   \n",
       "Science      0.391259  0.318784  0.515370  0.268010  0.492614  0.469549   \n",
       "Technology   1.000000  1.000000  1.000000  1.000000  1.000000  1.000000   \n",
       "\n",
       "year             2017      2018      2019      2020      2021      2022  \n",
       "department                                                               \n",
       "Engineering  0.000000  0.000000  0.000000  0.000000  0.000000  0.000000  \n",
       "Mathematics  0.330677  0.525027  0.536670  0.458057  0.481481  0.412388  \n",
       "Science      0.208386  0.194598  0.476273  0.146623  0.359477  0.255219  \n",
       "Technology   1.000000  1.000000  1.000000  1.000000  1.000000  1.000000  "
      ]
     },
     "execution_count": 39,
     "metadata": {},
     "output_type": "execute_result"
    }
   ],
   "source": [
    "online_grouped_normalized.head()"
   ]
  },
  {
   "cell_type": "markdown",
   "id": "a5df3c76",
   "metadata": {
    "papermill": {
     "duration": 0.022227,
     "end_time": "2024-07-08T12:05:19.359118",
     "exception": false,
     "start_time": "2024-07-08T12:05:19.336891",
     "status": "completed"
    },
    "tags": []
   },
   "source": [
    "- Now that we have gained the normalized counts for both online and calssroom data it is time to plot them.\n",
    "- Here I have ued a simple bar chart to plot the data."
   ]
  },
  {
   "cell_type": "code",
   "execution_count": 40,
   "id": "dd37ef9e",
   "metadata": {
    "execution": {
     "iopub.execute_input": "2024-07-08T12:05:19.407679Z",
     "iopub.status.busy": "2024-07-08T12:05:19.407270Z",
     "iopub.status.idle": "2024-07-08T12:05:20.323557Z",
     "shell.execute_reply": "2024-07-08T12:05:20.322352Z"
    },
    "papermill": {
     "duration": 0.945473,
     "end_time": "2024-07-08T12:05:20.326659",
     "exception": false,
     "start_time": "2024-07-08T12:05:19.381186",
     "status": "completed"
    },
    "tags": []
   },
   "outputs": [
    {
     "data": {
      "image/png": "[encoded data removed]",
      "text/plain": [
       "<Figure size 1200x500 with 2 Axes>"
      ]
     },
     "metadata": {},
     "output_type": "display_data"
    }
   ],
   "source": [
    "# Plotting\n",
    "fig, (ax1, ax2) = plt.subplots(1, 2, figsize=(12, 5), sharex=True)\n",
    "colors = ['lightcoral', 'navy', 'lightgreen', 'olive', 'teal', 'forestgreen', 'deepskyblue','red', 'mediumpurple', 'purple', 'darksalmon']\n",
    "\n",
    "# Plot for classroom data\n",
    "classroom_grouped_normalized.plot(kind='bar', ax=ax1, width=0.8, \n",
    "                                  edgecolor='black', color = colors)\n",
    "ax1.set_title('Classroom Data')\n",
    "ax1.set_ylabel('Normalized Enrollment Count')\n",
    "ax1.set_xticklabels(classroom_grouped_normalized.index, rotation=0)  # Adjust x tick labels with rotation\n",
    "\n",
    "# Plot for online data\n",
    "online_grouped_normalized.plot(kind='bar', ax=ax2, width=0.8, \n",
    "                               edgecolor='black', color = colors)\n",
    "ax2.set_title('Online Data')\n",
    "ax2.set_ylabel('Normalized Enrollment Count')\n",
    "ax2.set_xticklabels(online_grouped_normalized.index, rotation=0)  # Adjust x tick labels with rotation\n",
    "\n",
    "\n",
    "# Customize legend size and rotation\n",
    "ax1.legend(fontsize='small', loc='upper right', bbox_to_anchor=(1.2, 1))\n",
    "ax2.legend(fontsize='small', loc='upper right', bbox_to_anchor=(1.2, 1))\n",
    "\n",
    "\n",
    "plt.xticks(rotation=0)  # Rotate x-axis labels if necessary\n",
    "plt.tight_layout()\n",
    "plt.show()\n"
   ]
  },
  {
   "cell_type": "markdown",
   "id": "dd00d043",
   "metadata": {
    "papermill": {
     "duration": 0.022156,
     "end_time": "2024-07-08T12:05:20.371384",
     "exception": false,
     "start_time": "2024-07-08T12:05:20.349228",
     "status": "completed"
    },
    "tags": []
   },
   "source": [
    "From the above data we can clearly infer that:\n",
    "\n",
    "**1. In courses like Engineering and Science more people are willing to take the classroom classes.**\n",
    "\n",
    "**2. But The Technology Department courses people are more wiling to take the online courses.**\n",
    "\n",
    "**3. In the department of Mathematics the trend of taking classroom calsses increased in the year from 2014-2017 but after and before that it decreased to very low level and till present people are more willing to take Online calsses for Maths also.**\n"
   ]
  },
  {
   "cell_type": "markdown",
   "id": "26128786",
   "metadata": {
    "papermill": {
     "duration": 0.031764,
     "end_time": "2024-07-08T12:05:20.432948",
     "exception": false,
     "start_time": "2024-07-08T12:05:20.401184",
     "status": "completed"
    },
    "tags": []
   },
   "source": [
    "### **Pre-Score and Post-Score Comparison**\n",
    "Now let's compare the pre-score and post-score for every department in both Calssroom data and online data. It will help us to understand which mode of studying give better results i.e. online or classroom.\n",
    "\n",
    "For making the comparison I have grouped the classroom data and online data for every department and have calculated then mean-pre score and post-score."
   ]
  },
  {
   "cell_type": "code",
   "execution_count": 41,
   "id": "96d509ca",
   "metadata": {
    "execution": {
     "iopub.execute_input": "2024-07-08T12:05:20.484072Z",
     "iopub.status.busy": "2024-07-08T12:05:20.483547Z",
     "iopub.status.idle": "2024-07-08T12:05:20.495538Z",
     "shell.execute_reply": "2024-07-08T12:05:20.494088Z"
    },
    "papermill": {
     "duration": 0.041387,
     "end_time": "2024-07-08T12:05:20.498942",
     "exception": false,
     "start_time": "2024-07-08T12:05:20.457555",
     "status": "completed"
    },
    "tags": []
   },
   "outputs": [],
   "source": [
    "# Aggregate by department for classroom data\n",
    "classroom_mean_scores = classroom_data.groupby('department')[['pre_score', 'post_score']].mean()\n",
    "\n",
    "# Aggregate by department for online data\n",
    "online_mean_scores = online_data.groupby('department')[['pre_score', 'post_score']].mean()\n"
   ]
  },
  {
   "cell_type": "code",
   "execution_count": 42,
   "id": "e39a0001",
   "metadata": {
    "execution": {
     "iopub.execute_input": "2024-07-08T12:05:20.556723Z",
     "iopub.status.busy": "2024-07-08T12:05:20.556039Z",
     "iopub.status.idle": "2024-07-08T12:05:20.568461Z",
     "shell.execute_reply": "2024-07-08T12:05:20.567272Z"
    },
    "papermill": {
     "duration": 0.042826,
     "end_time": "2024-07-08T12:05:20.571098",
     "exception": false,
     "start_time": "2024-07-08T12:05:20.528272",
     "status": "completed"
    },
    "tags": []
   },
   "outputs": [
    {
     "data": {
      "text/html": [
       "<div>\n",
       "<style scoped>\n",
       "    .dataframe tbody tr th:only-of-type {\n",
       "        vertical-align: middle;\n",
       "    }\n",
       "\n",
       "    .dataframe tbody tr th {\n",
       "        vertical-align: top;\n",
       "    }\n",
       "\n",
       "    .dataframe thead th {\n",
       "        text-align: right;\n",
       "    }\n",
       "</style>\n",
       "<table border=\"1\" class=\"dataframe\">\n",
       "  <thead>\n",
       "    <tr style=\"text-align: right;\">\n",
       "      <th></th>\n",
       "      <th>pre_score</th>\n",
       "      <th>post_score</th>\n",
       "    </tr>\n",
       "    <tr>\n",
       "      <th>department</th>\n",
       "      <th></th>\n",
       "      <th></th>\n",
       "    </tr>\n",
       "  </thead>\n",
       "  <tbody>\n",
       "    <tr>\n",
       "      <th>Engineering</th>\n",
       "      <td>54.706146</td>\n",
       "      <td>75.395692</td>\n",
       "    </tr>\n",
       "    <tr>\n",
       "      <th>Mathematics</th>\n",
       "      <td>49.687641</td>\n",
       "      <td>74.850816</td>\n",
       "    </tr>\n",
       "    <tr>\n",
       "      <th>Science</th>\n",
       "      <td>48.230816</td>\n",
       "      <td>75.373890</td>\n",
       "    </tr>\n",
       "    <tr>\n",
       "      <th>Technology</th>\n",
       "      <td>49.346772</td>\n",
       "      <td>75.571806</td>\n",
       "    </tr>\n",
       "  </tbody>\n",
       "</table>\n",
       "</div>"
      ],
      "text/plain": [
       "             pre_score  post_score\n",
       "department                        \n",
       "Engineering  54.706146   75.395692\n",
       "Mathematics  49.687641   74.850816\n",
       "Science      48.230816   75.373890\n",
       "Technology   49.346772   75.571806"
      ]
     },
     "execution_count": 42,
     "metadata": {},
     "output_type": "execute_result"
    }
   ],
   "source": [
    "classroom_mean_scores"
   ]
  },
  {
   "cell_type": "code",
   "execution_count": 43,
   "id": "d0024c79",
   "metadata": {
    "execution": {
     "iopub.execute_input": "2024-07-08T12:05:20.619083Z",
     "iopub.status.busy": "2024-07-08T12:05:20.617975Z",
     "iopub.status.idle": "2024-07-08T12:05:20.629469Z",
     "shell.execute_reply": "2024-07-08T12:05:20.628151Z"
    },
    "papermill": {
     "duration": 0.038186,
     "end_time": "2024-07-08T12:05:20.632075",
     "exception": false,
     "start_time": "2024-07-08T12:05:20.593889",
     "status": "completed"
    },
    "tags": []
   },
   "outputs": [
    {
     "data": {
      "text/html": [
       "<div>\n",
       "<style scoped>\n",
       "    .dataframe tbody tr th:only-of-type {\n",
       "        vertical-align: middle;\n",
       "    }\n",
       "\n",
       "    .dataframe tbody tr th {\n",
       "        vertical-align: top;\n",
       "    }\n",
       "\n",
       "    .dataframe thead th {\n",
       "        text-align: right;\n",
       "    }\n",
       "</style>\n",
       "<table border=\"1\" class=\"dataframe\">\n",
       "  <thead>\n",
       "    <tr style=\"text-align: right;\">\n",
       "      <th></th>\n",
       "      <th>pre_score</th>\n",
       "      <th>post_score</th>\n",
       "    </tr>\n",
       "    <tr>\n",
       "      <th>department</th>\n",
       "      <th></th>\n",
       "      <th></th>\n",
       "    </tr>\n",
       "  </thead>\n",
       "  <tbody>\n",
       "    <tr>\n",
       "      <th>Engineering</th>\n",
       "      <td>46.179954</td>\n",
       "      <td>74.858156</td>\n",
       "    </tr>\n",
       "    <tr>\n",
       "      <th>Mathematics</th>\n",
       "      <td>48.213183</td>\n",
       "      <td>74.950000</td>\n",
       "    </tr>\n",
       "    <tr>\n",
       "      <th>Science</th>\n",
       "      <td>49.921001</td>\n",
       "      <td>74.928571</td>\n",
       "    </tr>\n",
       "    <tr>\n",
       "      <th>Technology</th>\n",
       "      <td>49.907506</td>\n",
       "      <td>75.441130</td>\n",
       "    </tr>\n",
       "  </tbody>\n",
       "</table>\n",
       "</div>"
      ],
      "text/plain": [
       "             pre_score  post_score\n",
       "department                        \n",
       "Engineering  46.179954   74.858156\n",
       "Mathematics  48.213183   74.950000\n",
       "Science      49.921001   74.928571\n",
       "Technology   49.907506   75.441130"
      ]
     },
     "execution_count": 43,
     "metadata": {},
     "output_type": "execute_result"
    }
   ],
   "source": [
    "online_mean_scores"
   ]
  },
  {
   "cell_type": "markdown",
   "id": "3af0e47b",
   "metadata": {
    "papermill": {
     "duration": 0.026802,
     "end_time": "2024-07-08T12:05:20.681784",
     "exception": false,
     "start_time": "2024-07-08T12:05:20.654982",
     "status": "completed"
    },
    "tags": []
   },
   "source": [
    "After getting the grouped dataframe I have plotted a bar chart to see the pres-core and post-score for each department."
   ]
  },
  {
   "cell_type": "code",
   "execution_count": 44,
   "id": "ebdee61c",
   "metadata": {
    "execution": {
     "iopub.execute_input": "2024-07-08T12:05:20.735084Z",
     "iopub.status.busy": "2024-07-08T12:05:20.734518Z",
     "iopub.status.idle": "2024-07-08T12:05:21.398272Z",
     "shell.execute_reply": "2024-07-08T12:05:21.396824Z"
    },
    "papermill": {
     "duration": 0.69255,
     "end_time": "2024-07-08T12:05:21.401012",
     "exception": false,
     "start_time": "2024-07-08T12:05:20.708462",
     "status": "completed"
    },
    "tags": []
   },
   "outputs": [
    {
     "data": {
      "image/png": "[encoded data removed]",
      "text/plain": [
       "<Figure size 1200x500 with 2 Axes>"
      ]
     },
     "metadata": {},
     "output_type": "display_data"
    }
   ],
   "source": [
    "# Plotting\n",
    "fig, (ax1, ax2) = plt.subplots(1, 2, figsize=(12, 5))\n",
    "# Plot for classroom data\n",
    "classroom_mean_scores.plot(kind='bar', ax=ax1, width=0.8, edgecolor='black', color=colors)\n",
    "ax1.set_title('Classroom Data')\n",
    "ax1.set_ylabel('Score')\n",
    "ax1.set_xticklabels(classroom_mean_scores.index, rotation=0)  # Adjust x tick labels with rotation\n",
    "\n",
    "online_mean_scores.plot(kind='bar', ax=ax2, width=0.8, edgecolor='black', color=colors)\n",
    "ax2.set_title('Online Data')\n",
    "ax2.set_ylabel('Score')\n",
    "ax2.set_xticklabels(online_mean_scores.index, rotation=0)  # Adjust x tick labels with rotation\n",
    "\n",
    "# Customize legend size and rotation\n",
    "ax1.legend(fontsize='small', loc='upper right', bbox_to_anchor=(1.2, 1))\n",
    "ax2.legend(fontsize='small', loc='upper right', bbox_to_anchor=(1.2, 1))\n",
    "\n",
    "\n",
    "plt.xticks(rotation=0)  # Rotate x-axis labels if necessary\n",
    "plt.tight_layout()\n",
    "plt.show()"
   ]
  },
  {
   "cell_type": "markdown",
   "id": "29bfb0fa",
   "metadata": {
    "papermill": {
     "duration": 0.025171,
     "end_time": "2024-07-08T12:05:21.451536",
     "exception": false,
     "start_time": "2024-07-08T12:05:21.426365",
     "status": "completed"
    },
    "tags": []
   },
   "source": [
    "- From the above plot we can see that both type of courses i.e classroom and online have succeeded in improving the results of the enrolled students.\n",
    "- As in both plots we can clearly see that post-score has increased for every deaprtment whether the course type is classroom or online.\n",
    "- So from the above plot we infer that both course types succeeds in improving the result of students."
   ]
  },
  {
   "cell_type": "markdown",
   "id": "d202b51f",
   "metadata": {
    "papermill": {
     "duration": 0.023857,
     "end_time": "2024-07-08T12:05:21.499631",
     "exception": false,
     "start_time": "2024-07-08T12:05:21.475774",
     "status": "completed"
    },
    "tags": []
   },
   "source": [
    "### **Visualizing Beginner and Intermediate level courses availibility in every department**\n",
    "\n",
    "Now let's visualize the amount of courses being offered  in different departments based on pre_requirement level.\n",
    "- For this I have made four dataframes two are from the classroom data and two are from the online data.\n",
    "- I have subset the beginner and intermediate level courses separatley for both classroom and online courses.\n",
    "- And then counted the number of courses available for each subset.\n",
    "- While we are making pie chart, so I have calcualted the percentage against each count."
   ]
  },
  {
   "cell_type": "code",
   "execution_count": 45,
   "id": "1cdec5dc",
   "metadata": {
    "execution": {
     "iopub.execute_input": "2024-07-08T12:05:21.549134Z",
     "iopub.status.busy": "2024-07-08T12:05:21.548639Z",
     "iopub.status.idle": "2024-07-08T12:05:21.560530Z",
     "shell.execute_reply": "2024-07-08T12:05:21.559306Z"
    },
    "papermill": {
     "duration": 0.039687,
     "end_time": "2024-07-08T12:05:21.563253",
     "exception": false,
     "start_time": "2024-07-08T12:05:21.523566",
     "status": "completed"
    },
    "tags": []
   },
   "outputs": [
    {
     "data": {
      "text/plain": [
       "department\n",
       "Science        36.254980\n",
       "Engineering    21.513944\n",
       "Mathematics    21.513944\n",
       "Technology     20.717131\n",
       "Name: proportion, dtype: float64"
      ]
     },
     "execution_count": 45,
     "metadata": {},
     "output_type": "execute_result"
    }
   ],
   "source": [
    "# subset all entries with course_type = clasroom and pre_requirement = Beginner\n",
    "beginner_classroom_data = classroom_data[classroom_data['pre_requirement'] == 'Beginner']\n",
    "beginner_counts_classroom = beginner_classroom_data['department'].value_counts(normalize=True) * 100\n",
    "beginner_counts_classroom.head()"
   ]
  },
  {
   "cell_type": "code",
   "execution_count": 46,
   "id": "c7032c1a",
   "metadata": {
    "execution": {
     "iopub.execute_input": "2024-07-08T12:05:21.612441Z",
     "iopub.status.busy": "2024-07-08T12:05:21.611447Z",
     "iopub.status.idle": "2024-07-08T12:05:21.623272Z",
     "shell.execute_reply": "2024-07-08T12:05:21.622169Z"
    },
    "papermill": {
     "duration": 0.039162,
     "end_time": "2024-07-08T12:05:21.625838",
     "exception": false,
     "start_time": "2024-07-08T12:05:21.586676",
     "status": "completed"
    },
    "tags": []
   },
   "outputs": [
    {
     "data": {
      "text/plain": [
       "department\n",
       "Science        38.839286\n",
       "Engineering    31.696429\n",
       "Mathematics    16.071429\n",
       "Technology     13.392857\n",
       "Name: proportion, dtype: float64"
      ]
     },
     "execution_count": 46,
     "metadata": {},
     "output_type": "execute_result"
    }
   ],
   "source": [
    "intermediate_classroom_data = classroom_data[classroom_data['pre_requirement'] == 'Intermediate']\n",
    "intermediate_counts_classroom = intermediate_classroom_data['department'].value_counts(normalize=True) * 100\n",
    "intermediate_counts_classroom.head()"
   ]
  },
  {
   "cell_type": "code",
   "execution_count": 47,
   "id": "33c2b818",
   "metadata": {
    "execution": {
     "iopub.execute_input": "2024-07-08T12:05:21.675689Z",
     "iopub.status.busy": "2024-07-08T12:05:21.675259Z",
     "iopub.status.idle": "2024-07-08T12:05:21.687579Z",
     "shell.execute_reply": "2024-07-08T12:05:21.686347Z"
    },
    "papermill": {
     "duration": 0.040407,
     "end_time": "2024-07-08T12:05:21.690255",
     "exception": false,
     "start_time": "2024-07-08T12:05:21.649848",
     "status": "completed"
    },
    "tags": []
   },
   "outputs": [
    {
     "data": {
      "text/plain": [
       "department\n",
       "Technology     49.671362\n",
       "Mathematics    24.037559\n",
       "Science        20.281690\n",
       "Engineering     6.009390\n",
       "Name: proportion, dtype: float64"
      ]
     },
     "execution_count": 47,
     "metadata": {},
     "output_type": "execute_result"
    }
   ],
   "source": [
    "beginner_online_data = online_data[online_data['pre_requirement'] == 'Beginner']\n",
    "beginner_counts_online = beginner_online_data['department'].value_counts(normalize=True) * 100\n",
    "beginner_counts_online.head()"
   ]
  },
  {
   "cell_type": "code",
   "execution_count": 48,
   "id": "318d75a4",
   "metadata": {
    "execution": {
     "iopub.execute_input": "2024-07-08T12:05:21.742102Z",
     "iopub.status.busy": "2024-07-08T12:05:21.740928Z",
     "iopub.status.idle": "2024-07-08T12:05:21.754243Z",
     "shell.execute_reply": "2024-07-08T12:05:21.753005Z"
    },
    "papermill": {
     "duration": 0.041641,
     "end_time": "2024-07-08T12:05:21.756771",
     "exception": false,
     "start_time": "2024-07-08T12:05:21.715130",
     "status": "completed"
    },
    "tags": []
   },
   "outputs": [
    {
     "data": {
      "text/plain": [
       "department\n",
       "Technology     34.838710\n",
       "Mathematics    30.322581\n",
       "Science        25.161290\n",
       "Engineering     9.677419\n",
       "Name: proportion, dtype: float64"
      ]
     },
     "execution_count": 48,
     "metadata": {},
     "output_type": "execute_result"
    }
   ],
   "source": [
    "intermediate_online_data = online_data[online_data['pre_requirement'] == 'Intermediate']\n",
    "intermediate_counts_online = intermediate_online_data['department'].value_counts(normalize=True) * 100\n",
    "intermediate_counts_online.head()"
   ]
  },
  {
   "cell_type": "markdown",
   "id": "95750fb1",
   "metadata": {
    "papermill": {
     "duration": 0.023543,
     "end_time": "2024-07-08T12:05:21.804818",
     "exception": false,
     "start_time": "2024-07-08T12:05:21.781275",
     "status": "completed"
    },
    "tags": []
   },
   "source": [
    "- Now that we have made separate dataframes four the coures count in every department for beginer and intermediate courses.\n",
    "- Now we will make pie chart for all four dataframes.\n",
    "- Before making a pie chart I have declared a dict for the colurs of every segment of pie chart. I want that all four pe charts should have same colour for example if Engineering segment in first pie plot has blue colour then it should have same colour in other three pie charts."
   ]
  },
  {
   "cell_type": "code",
   "execution_count": 49,
   "id": "2b4e4ec2",
   "metadata": {
    "execution": {
     "iopub.execute_input": "2024-07-08T12:05:21.854619Z",
     "iopub.status.busy": "2024-07-08T12:05:21.854209Z",
     "iopub.status.idle": "2024-07-08T12:05:21.859690Z",
     "shell.execute_reply": "2024-07-08T12:05:21.858538Z"
    },
    "papermill": {
     "duration": 0.033821,
     "end_time": "2024-07-08T12:05:21.862261",
     "exception": false,
     "start_time": "2024-07-08T12:05:21.828440",
     "status": "completed"
    },
    "tags": []
   },
   "outputs": [],
   "source": [
    "department_colors = {\n",
    "    'Science': 'plum',\n",
    "    'Engineering': 'lightskyblue',\n",
    "    'Mathematics': 'peachpuff',\n",
    "    'Technology': 'pink'\n",
    "}"
   ]
  },
  {
   "cell_type": "markdown",
   "id": "1fcdee71",
   "metadata": {
    "papermill": {
     "duration": 0.023563,
     "end_time": "2024-07-08T12:05:21.910308",
     "exception": false,
     "start_time": "2024-07-08T12:05:21.886745",
     "status": "completed"
    },
    "tags": []
   },
   "source": [
    "Now we make te pie charts.\n",
    "- I am assigning the colours using this code:\n",
    "    \n",
    "    colors = [department_colors.get(dep, 'gray') for dep in beginner_counts_classroom.index]\n",
    "    \n",
    "    **Get Color:** For each department (dep), it looks up the corresponding color in the department_colors dictionary using the get method.\n",
    "   \n",
    "   **Default Color:** If a department is not found in the department_colors dictionary, the get method returns the default color 'gray'.\n",
    "   \n",
    "- Also I wanted a universal legend for all plot for which i followed following steps:\n",
    "   \n",
    "   **1. Create Legend Handles**: Use list comprehension to create rectangles (plt.Rectangle). Each rectangle has a position (0,0), size (1,1), and color from department_colors.\n",
    "   \n",
    "   **2. Create Legend Labels:** Extract keys from department_colors to create labels.\n",
    "   \n",
    "   **3. Add Legend to Figure**"
   ]
  },
  {
   "cell_type": "code",
   "execution_count": 50,
   "id": "d5b658f6",
   "metadata": {
    "execution": {
     "iopub.execute_input": "2024-07-08T12:05:21.959753Z",
     "iopub.status.busy": "2024-07-08T12:05:21.959346Z",
     "iopub.status.idle": "2024-07-08T12:05:22.514608Z",
     "shell.execute_reply": "2024-07-08T12:05:22.513469Z"
    },
    "papermill": {
     "duration": 0.58325,
     "end_time": "2024-07-08T12:05:22.517384",
     "exception": false,
     "start_time": "2024-07-08T12:05:21.934134",
     "status": "completed"
    },
    "tags": []
   },
   "outputs": [
    {
     "data": {
      "image/png": "[encoded data removed]",
      "text/plain": [
       "<Figure size 500x500 with 4 Axes>"
      ]
     },
     "metadata": {},
     "output_type": "display_data"
    }
   ],
   "source": [
    "# Create subplots\n",
    "fig, ((ax1, ax2), (ax3, ax4)) = plt.subplots(2, 2, figsize=(5, 5))\n",
    "\n",
    "# Plot for beginner - Classroom\n",
    "ax1.pie(beginner_counts_classroom, autopct='%1.1f%%', \n",
    "        colors=[department_colors.get(dep, 'gray') for dep in beginner_counts_classroom.index])\n",
    "ax1.set_title('Beginner - Classroom')\n",
    "\n",
    "# Plot for intermediate - Classroom\n",
    "ax2.pie(intermediate_counts_classroom, autopct='%1.1f%%',  \n",
    "        colors=[department_colors.get(dep, 'gray') for dep in intermediate_counts_classroom.index])\n",
    "ax2.set_title('Intermediate - Classroom')\n",
    "\n",
    "# Plot for beginner - Online\n",
    "ax3.pie(beginner_counts_online, autopct='%1.1f%%',\n",
    "        colors=[department_colors.get(dep, 'gray') for dep in beginner_counts_online.index])\n",
    "ax3.set_title('Beginner - Online')\n",
    "\n",
    "# Plot for intermediate - Online\n",
    "ax4.pie(intermediate_counts_online, autopct='%1.1f%%',  \n",
    "        colors=[department_colors.get(dep, 'gray') for dep in intermediate_counts_online.index])\n",
    "ax4.set_title('Intermediate - Online')\n",
    "\n",
    "# Create a single legend for all plots\n",
    "handles = [plt.Rectangle((0,0),1,1, color=department_colors.get(dep, 'gray')) for dep in department_colors]\n",
    "labels = list(department_colors.keys())\n",
    "fig.legend(handles, labels, loc='upper left', bbox_to_anchor=(1, 1))\n",
    "\n",
    "plt.tight_layout()\n",
    "plt.show()"
   ]
  },
  {
   "cell_type": "markdown",
   "id": "9bf94906",
   "metadata": {
    "papermill": {
     "duration": 0.024638,
     "end_time": "2024-07-08T12:05:22.567407",
     "exception": false,
     "start_time": "2024-07-08T12:05:22.542769",
     "status": "completed"
    },
    "tags": []
   },
   "source": [
    "From the above plot we can clearly see that:\n",
    "- In the technology department more courses are being offered online than classroom. That can be a reason why less students are enrolling in Technology department for classroom classes.\n",
    "- But for the Engineering department less courses are offered online, so more students are getting enrolled in online courses.\n",
    "- Same trends can be seen for Maths and Science department."
   ]
  },
  {
   "cell_type": "markdown",
   "id": "1f54266b",
   "metadata": {
    "papermill": {
     "duration": 0.024828,
     "end_time": "2024-07-08T12:05:22.617165",
     "exception": false,
     "start_time": "2024-07-08T12:05:22.592337",
     "status": "completed"
    },
    "tags": []
   },
   "source": [
    "That was all from the data analysis and visualization part.\n",
    "Now let's conclude our study and draw some conclusions from our analysis\n",
    "\n",
    "---\n",
    "## **CONCLUSION**\n",
    "- Course type is a significant factor in analyzing the enrollment of students.\n",
    "- Over the years from 2011 to 2022 the enrollment in online courses is more than the enrollment in classroom courses. More students are getting enrolled for online courses.\n",
    "- The courses in the department of Technology and Mathematics are mostly being studied online.\n",
    "- Whereas courses of department Science and Engineering and mostly being enrolled by the students who want to learn on-campus.\n",
    "- One more key insight is that university is offering more online courses for technology and maths. That can be a reason of the high enrollment of students in online courses for these departments.\n",
    "- Similarly the courses that fall in the department of Engineering and Science are mostly offered oncampus, thats why their enrollment is highter as compared to online.\n",
    "- Also in both type of courses an increasing trend is seen in the postscore for all departments, that means university is succeeding in providing required knowledge to students whether the course type is classroom or online."
   ]
  }
 ],
 "metadata": {
  "kaggle": {
   "accelerator": "none",
   "dataSources": [
    {
     "datasetId": 5338660,
     "sourceId": 8870645,
     "sourceType": "datasetVersion"
    }
   ],
   "dockerImageVersionId": 30732,
   "isGpuEnabled": false,
   "isInternetEnabled": false,
   "language": "python",
   "sourceType": "notebook"
  },
  "kernelspec": {
   "display_name": "Python 3",
   "language": "python",
   "name": "python3"
  },
  "language_info": {
   "codemirror_mode": {
    "name": "ipython",
    "version": 3
   },
   "file_extension": ".py",
   "mimetype": "text/x-python",
   "name": "python",
   "nbconvert_exporter": "python",
   "pygments_lexer": "ipython3",
   "version": "3.10.13"
  },
  "papermill": {
   "default_parameters": {},
   "duration": 12.029631,
   "end_time": "2024-07-08T12:05:23.265384",
   "environment_variables": {},
   "exception": null,
   "input_path": "__notebook__.ipynb",
   "output_path": "__notebook__.ipynb",
   "parameters": {},
   "start_time": "2024-07-08T12:05:11.235753",
   "version": "2.5.0"
  }
 },
 "nbformat": 4,
 "nbformat_minor": 5
}
